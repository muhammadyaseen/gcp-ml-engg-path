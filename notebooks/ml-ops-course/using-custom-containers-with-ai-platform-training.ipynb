{
 "cells": [
  {
   "cell_type": "markdown",
   "metadata": {},
   "source": [
    "# Using custom containers with AI Platform Training\n",
    "\n",
    "**Learning Objectives:**\n",
    "1. Learn how to create a train and a validation split with BigQuery\n",
    "1. Learn how to wrap a machine learning model into a Docker container and train in on AI Platform\n",
    "1. Learn how to use the hyperparameter tunning engine on Google Cloud to find the best hyperparameters\n",
    "1. Learn how to deploy a trained machine learning model Google Cloud as a rest API and query it\n",
    "\n",
    "In this lab, you develop a  multi-class classification model, package the model as a docker image, and run on **AI Platform Training** as a training application. The training application trains a multi-class classification model that predicts the type of forest cover from cartographic data. The [dataset](../../../datasets/covertype/README.md) used in the lab is based on **Covertype Data Set** from UCI Machine Learning Repository.\n",
    "\n",
    "Scikit-learn is one of the most useful libraries for machine learning in Python. The training code uses `scikit-learn` for data pre-processing and modeling. \n",
    "\n",
    "The code is instrumented using the `hypertune` package so it can be used with **AI Platform** hyperparameter tuning job in searching for the best combination of hyperparameter values by optimizing the metrics you specified.\n"
   ]
  },
  {
   "cell_type": "code",
   "execution_count": 1,
   "metadata": {},
   "outputs": [],
   "source": [
    "import json\n",
    "import os\n",
    "import numpy as np\n",
    "import pandas as pd\n",
    "import pickle\n",
    "import uuid\n",
    "import time\n",
    "import tempfile\n",
    "\n",
    "from googleapiclient import discovery\n",
    "from googleapiclient import errors\n",
    "\n",
    "from google.cloud import bigquery\n",
    "from jinja2 import Template\n",
    "from kfp.components import func_to_container_op\n",
    "from typing import NamedTuple\n",
    "\n",
    "from sklearn.metrics import accuracy_score\n",
    "from sklearn.model_selection import train_test_split\n",
    "from sklearn.linear_model import SGDClassifier\n",
    "from sklearn.pipeline import Pipeline\n",
    "from sklearn.preprocessing import StandardScaler, OneHotEncoder\n",
    "from sklearn.compose import ColumnTransformer"
   ]
  },
  {
   "cell_type": "markdown",
   "metadata": {},
   "source": [
    "Run the command in the cell below to install gcsfs package."
   ]
  },
  {
   "cell_type": "code",
   "execution_count": 2,
   "metadata": {},
   "outputs": [
    {
     "name": "stdout",
     "output_type": "stream",
     "text": [
      "Collecting gcsfs==0.8\n",
      "  Downloading gcsfs-0.8.0-py2.py3-none-any.whl (23 kB)\n",
      "Collecting ujson\n",
      "  Downloading ujson-5.7.0-cp37-cp37m-manylinux_2_17_x86_64.manylinux2014_x86_64.whl (52 kB)\n",
      "\u001b[2K     \u001b[90m━━━━━━━━━━━━━━━━━━━━━━━━━━━━━━━━━━━━━━━━\u001b[0m \u001b[32m52.6/52.6 kB\u001b[0m \u001b[31m3.9 MB/s\u001b[0m eta \u001b[36m0:00:00\u001b[0m\n",
      "\u001b[?25hRequirement already satisfied: google-auth-oauthlib in /opt/conda/lib/python3.7/site-packages (from gcsfs==0.8) (0.8.0)\n",
      "Requirement already satisfied: fsspec>=0.8.0 in /opt/conda/lib/python3.7/site-packages (from gcsfs==0.8) (2023.1.0)\n",
      "Requirement already satisfied: google-auth>=1.2 in /opt/conda/lib/python3.7/site-packages (from gcsfs==0.8) (2.16.0)\n",
      "Requirement already satisfied: aiohttp in /opt/conda/lib/python3.7/site-packages (from gcsfs==0.8) (3.8.3)\n",
      "Requirement already satisfied: requests in /opt/conda/lib/python3.7/site-packages (from gcsfs==0.8) (2.28.2)\n",
      "Requirement already satisfied: decorator in /opt/conda/lib/python3.7/site-packages (from gcsfs==0.8) (5.1.1)\n",
      "Requirement already satisfied: rsa<5,>=3.1.4 in /opt/conda/lib/python3.7/site-packages (from google-auth>=1.2->gcsfs==0.8) (4.9)\n",
      "Requirement already satisfied: six>=1.9.0 in /opt/conda/lib/python3.7/site-packages (from google-auth>=1.2->gcsfs==0.8) (1.16.0)\n",
      "Requirement already satisfied: pyasn1-modules>=0.2.1 in /opt/conda/lib/python3.7/site-packages (from google-auth>=1.2->gcsfs==0.8) (0.2.8)\n",
      "Requirement already satisfied: cachetools<6.0,>=2.0.0 in /opt/conda/lib/python3.7/site-packages (from google-auth>=1.2->gcsfs==0.8) (5.3.0)\n",
      "Requirement already satisfied: asynctest==0.13.0 in /opt/conda/lib/python3.7/site-packages (from aiohttp->gcsfs==0.8) (0.13.0)\n",
      "Requirement already satisfied: yarl<2.0,>=1.0 in /opt/conda/lib/python3.7/site-packages (from aiohttp->gcsfs==0.8) (1.8.2)\n",
      "Requirement already satisfied: aiosignal>=1.1.2 in /opt/conda/lib/python3.7/site-packages (from aiohttp->gcsfs==0.8) (1.3.1)\n",
      "Requirement already satisfied: typing-extensions>=3.7.4 in /opt/conda/lib/python3.7/site-packages (from aiohttp->gcsfs==0.8) (4.4.0)\n",
      "Requirement already satisfied: multidict<7.0,>=4.5 in /opt/conda/lib/python3.7/site-packages (from aiohttp->gcsfs==0.8) (6.0.4)\n",
      "Requirement already satisfied: frozenlist>=1.1.1 in /opt/conda/lib/python3.7/site-packages (from aiohttp->gcsfs==0.8) (1.3.3)\n",
      "Requirement already satisfied: charset-normalizer<3.0,>=2.0 in /opt/conda/lib/python3.7/site-packages (from aiohttp->gcsfs==0.8) (2.1.1)\n",
      "Requirement already satisfied: attrs>=17.3.0 in /opt/conda/lib/python3.7/site-packages (from aiohttp->gcsfs==0.8) (22.2.0)\n",
      "Requirement already satisfied: async-timeout<5.0,>=4.0.0a3 in /opt/conda/lib/python3.7/site-packages (from aiohttp->gcsfs==0.8) (4.0.2)\n",
      "Requirement already satisfied: requests-oauthlib>=0.7.0 in /opt/conda/lib/python3.7/site-packages (from google-auth-oauthlib->gcsfs==0.8) (1.3.1)\n",
      "Requirement already satisfied: urllib3<1.27,>=1.21.1 in /opt/conda/lib/python3.7/site-packages (from requests->gcsfs==0.8) (1.24.3)\n",
      "Requirement already satisfied: certifi>=2017.4.17 in /opt/conda/lib/python3.7/site-packages (from requests->gcsfs==0.8) (2022.12.7)\n",
      "Requirement already satisfied: idna<4,>=2.5 in /opt/conda/lib/python3.7/site-packages (from requests->gcsfs==0.8) (3.4)\n",
      "Requirement already satisfied: pyasn1<0.5.0,>=0.4.6 in /opt/conda/lib/python3.7/site-packages (from pyasn1-modules>=0.2.1->google-auth>=1.2->gcsfs==0.8) (0.4.8)\n",
      "Requirement already satisfied: oauthlib>=3.0.0 in /opt/conda/lib/python3.7/site-packages (from requests-oauthlib>=0.7.0->google-auth-oauthlib->gcsfs==0.8) (3.2.2)\n",
      "Installing collected packages: ujson, gcsfs\n",
      "  Attempting uninstall: gcsfs\n",
      "    Found existing installation: gcsfs 2023.1.0\n",
      "    Uninstalling gcsfs-2023.1.0:\n",
      "      Successfully uninstalled gcsfs-2023.1.0\n",
      "Successfully installed gcsfs-0.8.0 ujson-5.7.0\n",
      "\u001b[33mWARNING: Running pip as the 'root' user can result in broken permissions and conflicting behaviour with the system package manager. It is recommended to use a virtual environment instead: https://pip.pypa.io/warnings/venv\u001b[0m\u001b[33m\n",
      "\u001b[0mNote: you may need to restart the kernel to use updated packages.\n"
     ]
    }
   ],
   "source": [
    "%pip install gcsfs==0.8"
   ]
  },
  {
   "cell_type": "markdown",
   "metadata": {},
   "source": [
    "## Prepare lab dataset\n",
    "\n",
    "Set environment variable so that we can use them throughout the entire lab.\n",
    "\n",
    "The pipeline ingests data from BigQuery. The cell below uploads the Covertype dataset to BigQuery.\n"
   ]
  },
  {
   "cell_type": "code",
   "execution_count": 3,
   "metadata": {},
   "outputs": [],
   "source": [
    "PROJECT_ID = !(gcloud config get-value core/project)\n",
    "PROJECT_ID = PROJECT_ID[0]\n",
    "DATASET_ID='covertype_dataset'\n",
    "DATASET_LOCATION='US'\n",
    "TABLE_ID='covertype'\n",
    "DATA_SOURCE='gs://cloud-training/OCBL203/workshop-datasets/dataset.csv'\n",
    "SCHEMA='Elevation:INTEGER,Aspect:INTEGER,Slope:INTEGER,Horizontal_Distance_To_Hydrology:INTEGER,Vertical_Distance_To_Hydrology:INTEGER,Horizontal_Distance_To_Roadways:INTEGER,Hillshade_9am:INTEGER,Hillshade_Noon:INTEGER,Hillshade_3pm:INTEGER,Horizontal_Distance_To_Fire_Points:INTEGER,Wilderness_Area:STRING,Soil_Type:STRING,Cover_Type:INTEGER'\n"
   ]
  },
  {
   "cell_type": "markdown",
   "metadata": {},
   "source": [
    "Next, create the BigQuery dataset and upload the Covertype csv data into a table.\n"
   ]
  },
  {
   "cell_type": "code",
   "execution_count": 4,
   "metadata": {},
   "outputs": [
    {
     "name": "stdout",
     "output_type": "stream",
     "text": [
      "Dataset 'qwiklabs-gcp-03-99625653b8b8:covertype_dataset' successfully created.\n"
     ]
    }
   ],
   "source": [
    "!bq --location=$DATASET_LOCATION --project_id=$PROJECT_ID mk --dataset $DATASET_ID\n"
   ]
  },
  {
   "cell_type": "code",
   "execution_count": 5,
   "metadata": {},
   "outputs": [
    {
     "name": "stdout",
     "output_type": "stream",
     "text": [
      "Waiting on bqjob_r55a7a35e54f8e519_00000186881eb2c5_1 ... (2s) Current status: DONE   \n"
     ]
    }
   ],
   "source": [
    "!bq --project_id=$PROJECT_ID --dataset_id=$DATASET_ID load \\\n",
    "--source_format=CSV \\\n",
    "--skip_leading_rows=1 \\\n",
    "--replace \\\n",
    "$TABLE_ID \\\n",
    "$DATA_SOURCE \\\n",
    "$SCHEMA\n"
   ]
  },
  {
   "cell_type": "markdown",
   "metadata": {},
   "source": [
    "## Configure environment settings"
   ]
  },
  {
   "cell_type": "markdown",
   "metadata": {},
   "source": [
    "Set location paths, connections strings, and other environment settings. Make sure to update   `REGION`, and `ARTIFACT_STORE`  with the settings reflecting your lab environment. \n",
    "\n",
    "- `REGION` - the compute region for AI Platform Training and Prediction\n",
    "- `ARTIFACT_STORE` - the Cloud Storage bucket created during installation of AI Platform Pipelines. The bucket name starts with the `qwiklabs-gcp-xx-xxxxxxx-kubeflowpipelines-default` prefix.\n",
    "\n",
    " Run gsutil ls without URLs to list all of the Cloud Storage buckets under your default project ID. "
   ]
  },
  {
   "cell_type": "code",
   "execution_count": 6,
   "metadata": {},
   "outputs": [
    {
     "name": "stdout",
     "output_type": "stream",
     "text": [
      "gs://artifacts.qwiklabs-gcp-03-99625653b8b8.appspot.com/\n",
      "gs://qwiklabs-gcp-03-99625653b8b8-kubeflowpipelines-default/\n",
      "gs://qwiklabs-gcp-03-99625653b8b8_cloudbuild/\n"
     ]
    }
   ],
   "source": [
    "!gsutil ls"
   ]
  },
  {
   "cell_type": "markdown",
   "metadata": {},
   "source": [
    "**HINT:** For ARTIFACT_STORE, copy the bucket name which starts with the qwiklabs-gcp-xx-xxxxxxx-kubeflowpipelines-default prefix from the previous cell output. \n",
    "\n",
    "Your copied value should look like 'gs://qwiklabs-gcp-xx-xxxxxxx-kubeflowpipelines-default')."
   ]
  },
  {
   "cell_type": "code",
   "execution_count": 25,
   "metadata": {},
   "outputs": [
    {
     "name": "stdout",
     "output_type": "stream",
     "text": [
      "gs://qwiklabs-gcp-03-99625653b8b8-kubeflowpipelines-default/data/training/dataset.csv\n",
      "gs://qwiklabs-gcp-03-99625653b8b8-kubeflowpipelines-default/data/validation/dataset.csv\n"
     ]
    }
   ],
   "source": [
    "REGION = 'us-central1'\n",
    "ARTIFACT_STORE = 'gs://qwiklabs-gcp-03-99625653b8b8-kubeflowpipelines-default' # TO DO: REPLACE WITH YOUR ARTIFACT_STORE NAME\n",
    "\n",
    "PROJECT_ID = !(gcloud config get-value core/project)\n",
    "PROJECT_ID = PROJECT_ID[0]\n",
    "DATA_ROOT='{}/data'.format(ARTIFACT_STORE)\n",
    "JOB_DIR_ROOT='{}/jobs'.format(ARTIFACT_STORE)\n",
    "TRAINING_FILE_PATH='{}/{}/{}'.format(DATA_ROOT, 'training', 'dataset.csv')\n",
    "VALIDATION_FILE_PATH='{}/{}/{}'.format(DATA_ROOT, 'validation', 'dataset.csv')\n",
    "\n",
    "print(TRAINING_FILE_PATH)\n",
    "print(VALIDATION_FILE_PATH)"
   ]
  },
  {
   "cell_type": "markdown",
   "metadata": {},
   "source": [
    "## Explore the Covertype dataset \n",
    "\n",
    "Run the query statement below to scan covertype_dataset.covertype table in BigQuery and return the computed result rows."
   ]
  },
  {
   "cell_type": "code",
   "execution_count": 13,
   "metadata": {},
   "outputs": [
    {
     "data": {
      "application/vnd.jupyter.widget-view+json": {
       "model_id": "4b3e13903b4e42059bb096d413e48769",
       "version_major": 2,
       "version_minor": 0
      },
      "text/plain": [
       "Query is running:   0%|          |"
      ]
     },
     "metadata": {},
     "output_type": "display_data"
    },
    {
     "data": {
      "application/vnd.jupyter.widget-view+json": {
       "model_id": "5fe41363aedf4bfe84a0d7af014a7820",
       "version_major": 2,
       "version_minor": 0
      },
      "text/plain": [
       "Downloading:   0%|          |"
      ]
     },
     "metadata": {},
     "output_type": "display_data"
    },
    {
     "data": {
      "text/html": [
       "<div>\n",
       "<style scoped>\n",
       "    .dataframe tbody tr th:only-of-type {\n",
       "        vertical-align: middle;\n",
       "    }\n",
       "\n",
       "    .dataframe tbody tr th {\n",
       "        vertical-align: top;\n",
       "    }\n",
       "\n",
       "    .dataframe thead th {\n",
       "        text-align: right;\n",
       "    }\n",
       "</style>\n",
       "<table border=\"1\" class=\"dataframe\">\n",
       "  <thead>\n",
       "    <tr style=\"text-align: right;\">\n",
       "      <th></th>\n",
       "      <th>Elevation</th>\n",
       "      <th>Aspect</th>\n",
       "      <th>Slope</th>\n",
       "      <th>Horizontal_Distance_To_Hydrology</th>\n",
       "      <th>Vertical_Distance_To_Hydrology</th>\n",
       "      <th>Horizontal_Distance_To_Roadways</th>\n",
       "      <th>Hillshade_9am</th>\n",
       "      <th>Hillshade_Noon</th>\n",
       "      <th>Hillshade_3pm</th>\n",
       "      <th>Horizontal_Distance_To_Fire_Points</th>\n",
       "      <th>Wilderness_Area</th>\n",
       "      <th>Soil_Type</th>\n",
       "      <th>Cover_Type</th>\n",
       "    </tr>\n",
       "  </thead>\n",
       "  <tbody>\n",
       "    <tr>\n",
       "      <th>0</th>\n",
       "      <td>2085</td>\n",
       "      <td>256</td>\n",
       "      <td>18</td>\n",
       "      <td>150</td>\n",
       "      <td>27</td>\n",
       "      <td>738</td>\n",
       "      <td>176</td>\n",
       "      <td>248</td>\n",
       "      <td>208</td>\n",
       "      <td>914</td>\n",
       "      <td>Cache</td>\n",
       "      <td>C2702</td>\n",
       "      <td>5</td>\n",
       "    </tr>\n",
       "    <tr>\n",
       "      <th>1</th>\n",
       "      <td>2125</td>\n",
       "      <td>256</td>\n",
       "      <td>20</td>\n",
       "      <td>30</td>\n",
       "      <td>12</td>\n",
       "      <td>871</td>\n",
       "      <td>169</td>\n",
       "      <td>248</td>\n",
       "      <td>215</td>\n",
       "      <td>300</td>\n",
       "      <td>Cache</td>\n",
       "      <td>C2702</td>\n",
       "      <td>2</td>\n",
       "    </tr>\n",
       "    <tr>\n",
       "      <th>2</th>\n",
       "      <td>2146</td>\n",
       "      <td>256</td>\n",
       "      <td>34</td>\n",
       "      <td>150</td>\n",
       "      <td>62</td>\n",
       "      <td>1253</td>\n",
       "      <td>122</td>\n",
       "      <td>237</td>\n",
       "      <td>239</td>\n",
       "      <td>511</td>\n",
       "      <td>Cache</td>\n",
       "      <td>C2702</td>\n",
       "      <td>2</td>\n",
       "    </tr>\n",
       "    <tr>\n",
       "      <th>3</th>\n",
       "      <td>2186</td>\n",
       "      <td>256</td>\n",
       "      <td>38</td>\n",
       "      <td>210</td>\n",
       "      <td>102</td>\n",
       "      <td>1294</td>\n",
       "      <td>109</td>\n",
       "      <td>232</td>\n",
       "      <td>244</td>\n",
       "      <td>552</td>\n",
       "      <td>Cache</td>\n",
       "      <td>C2702</td>\n",
       "      <td>2</td>\n",
       "    </tr>\n",
       "    <tr>\n",
       "      <th>4</th>\n",
       "      <td>2831</td>\n",
       "      <td>256</td>\n",
       "      <td>25</td>\n",
       "      <td>277</td>\n",
       "      <td>183</td>\n",
       "      <td>1706</td>\n",
       "      <td>153</td>\n",
       "      <td>246</td>\n",
       "      <td>225</td>\n",
       "      <td>1485</td>\n",
       "      <td>Commanche</td>\n",
       "      <td>C2705</td>\n",
       "      <td>1</td>\n",
       "    </tr>\n",
       "    <tr>\n",
       "      <th>...</th>\n",
       "      <td>...</td>\n",
       "      <td>...</td>\n",
       "      <td>...</td>\n",
       "      <td>...</td>\n",
       "      <td>...</td>\n",
       "      <td>...</td>\n",
       "      <td>...</td>\n",
       "      <td>...</td>\n",
       "      <td>...</td>\n",
       "      <td>...</td>\n",
       "      <td>...</td>\n",
       "      <td>...</td>\n",
       "      <td>...</td>\n",
       "    </tr>\n",
       "    <tr>\n",
       "      <th>99995</th>\n",
       "      <td>3136</td>\n",
       "      <td>254</td>\n",
       "      <td>12</td>\n",
       "      <td>319</td>\n",
       "      <td>60</td>\n",
       "      <td>5734</td>\n",
       "      <td>193</td>\n",
       "      <td>248</td>\n",
       "      <td>193</td>\n",
       "      <td>2467</td>\n",
       "      <td>Rawah</td>\n",
       "      <td>C7746</td>\n",
       "      <td>1</td>\n",
       "    </tr>\n",
       "    <tr>\n",
       "      <th>99996</th>\n",
       "      <td>3242</td>\n",
       "      <td>254</td>\n",
       "      <td>12</td>\n",
       "      <td>636</td>\n",
       "      <td>148</td>\n",
       "      <td>3551</td>\n",
       "      <td>193</td>\n",
       "      <td>248</td>\n",
       "      <td>193</td>\n",
       "      <td>2010</td>\n",
       "      <td>Commanche</td>\n",
       "      <td>C7757</td>\n",
       "      <td>0</td>\n",
       "    </tr>\n",
       "    <tr>\n",
       "      <th>99997</th>\n",
       "      <td>2071</td>\n",
       "      <td>255</td>\n",
       "      <td>12</td>\n",
       "      <td>234</td>\n",
       "      <td>63</td>\n",
       "      <td>342</td>\n",
       "      <td>192</td>\n",
       "      <td>247</td>\n",
       "      <td>193</td>\n",
       "      <td>247</td>\n",
       "      <td>Cache</td>\n",
       "      <td>C2706</td>\n",
       "      <td>2</td>\n",
       "    </tr>\n",
       "    <tr>\n",
       "      <th>99998</th>\n",
       "      <td>3248</td>\n",
       "      <td>255</td>\n",
       "      <td>12</td>\n",
       "      <td>730</td>\n",
       "      <td>113</td>\n",
       "      <td>725</td>\n",
       "      <td>192</td>\n",
       "      <td>247</td>\n",
       "      <td>193</td>\n",
       "      <td>2724</td>\n",
       "      <td>Commanche</td>\n",
       "      <td>C7756</td>\n",
       "      <td>1</td>\n",
       "    </tr>\n",
       "    <tr>\n",
       "      <th>99999</th>\n",
       "      <td>3153</td>\n",
       "      <td>255</td>\n",
       "      <td>12</td>\n",
       "      <td>404</td>\n",
       "      <td>116</td>\n",
       "      <td>2139</td>\n",
       "      <td>192</td>\n",
       "      <td>247</td>\n",
       "      <td>193</td>\n",
       "      <td>994</td>\n",
       "      <td>Commanche</td>\n",
       "      <td>C7756</td>\n",
       "      <td>1</td>\n",
       "    </tr>\n",
       "  </tbody>\n",
       "</table>\n",
       "<p>100000 rows × 13 columns</p>\n",
       "</div>"
      ],
      "text/plain": [
       "       Elevation  Aspect  Slope  Horizontal_Distance_To_Hydrology  \\\n",
       "0           2085     256     18                               150   \n",
       "1           2125     256     20                                30   \n",
       "2           2146     256     34                               150   \n",
       "3           2186     256     38                               210   \n",
       "4           2831     256     25                               277   \n",
       "...          ...     ...    ...                               ...   \n",
       "99995       3136     254     12                               319   \n",
       "99996       3242     254     12                               636   \n",
       "99997       2071     255     12                               234   \n",
       "99998       3248     255     12                               730   \n",
       "99999       3153     255     12                               404   \n",
       "\n",
       "       Vertical_Distance_To_Hydrology  Horizontal_Distance_To_Roadways  \\\n",
       "0                                  27                              738   \n",
       "1                                  12                              871   \n",
       "2                                  62                             1253   \n",
       "3                                 102                             1294   \n",
       "4                                 183                             1706   \n",
       "...                               ...                              ...   \n",
       "99995                              60                             5734   \n",
       "99996                             148                             3551   \n",
       "99997                              63                              342   \n",
       "99998                             113                              725   \n",
       "99999                             116                             2139   \n",
       "\n",
       "       Hillshade_9am  Hillshade_Noon  Hillshade_3pm  \\\n",
       "0                176             248            208   \n",
       "1                169             248            215   \n",
       "2                122             237            239   \n",
       "3                109             232            244   \n",
       "4                153             246            225   \n",
       "...              ...             ...            ...   \n",
       "99995            193             248            193   \n",
       "99996            193             248            193   \n",
       "99997            192             247            193   \n",
       "99998            192             247            193   \n",
       "99999            192             247            193   \n",
       "\n",
       "       Horizontal_Distance_To_Fire_Points Wilderness_Area Soil_Type  \\\n",
       "0                                     914           Cache     C2702   \n",
       "1                                     300           Cache     C2702   \n",
       "2                                     511           Cache     C2702   \n",
       "3                                     552           Cache     C2702   \n",
       "4                                    1485       Commanche     C2705   \n",
       "...                                   ...             ...       ...   \n",
       "99995                                2467           Rawah     C7746   \n",
       "99996                                2010       Commanche     C7757   \n",
       "99997                                 247           Cache     C2706   \n",
       "99998                                2724       Commanche     C7756   \n",
       "99999                                 994       Commanche     C7756   \n",
       "\n",
       "       Cover_Type  \n",
       "0               5  \n",
       "1               2  \n",
       "2               2  \n",
       "3               2  \n",
       "4               1  \n",
       "...           ...  \n",
       "99995           1  \n",
       "99996           0  \n",
       "99997           2  \n",
       "99998           1  \n",
       "99999           1  \n",
       "\n",
       "[100000 rows x 13 columns]"
      ]
     },
     "execution_count": 13,
     "metadata": {},
     "output_type": "execute_result"
    }
   ],
   "source": [
    "%%bigquery --use_rest_api\n",
    "SELECT *\n",
    "FROM `covertype_dataset.covertype`"
   ]
  },
  {
   "cell_type": "markdown",
   "metadata": {},
   "source": [
    "## Create training and validation splits\n",
    "\n",
    "Use BigQuery to sample training and validation splits and save them to Cloud Storage.\n",
    "### Create a training split\n",
    "\n",
    "Run the query below in order to have repeatable sampling of the data in BigQuery. Note that `FARM_FINGERPRINT()` is used on the field that you are going to split your data. It creates a training split that takes 80% of the data using the `bq` command and exports this split into the BigQuery table of `covertype_dataset.training`."
   ]
  },
  {
   "cell_type": "code",
   "execution_count": 14,
   "metadata": {},
   "outputs": [
    {
     "name": "stdout",
     "output_type": "stream",
     "text": [
      "Waiting on bqjob_r458f51e74d573592_00000186882275d3_1 ... (1s) Current status: DONE   \n"
     ]
    }
   ],
   "source": [
    "!bq query \\\n",
    "-n 0 \\\n",
    "--destination_table covertype_dataset.training \\\n",
    "--replace \\\n",
    "--use_legacy_sql=false \\\n",
    "'SELECT * \\\n",
    "FROM `covertype_dataset.covertype` AS cover \\\n",
    "WHERE \\\n",
    "MOD(ABS(FARM_FINGERPRINT(TO_JSON_STRING(cover))), 10) IN (1, 2, 3, 4)' "
   ]
  },
  {
   "cell_type": "markdown",
   "metadata": {},
   "source": [
    "Use the bq extract command to export the BigQuery training table to GCS at $TRAINING_FILE_PATH."
   ]
  },
  {
   "cell_type": "code",
   "execution_count": 15,
   "metadata": {},
   "outputs": [
    {
     "name": "stdout",
     "output_type": "stream",
     "text": [
      "Waiting on bqjob_r2fda4b546c0c9336_00000186882295eb_1 ... (0s) Current status: DONE   \n"
     ]
    }
   ],
   "source": [
    "!bq extract \\\n",
    "--destination_format CSV \\\n",
    "covertype_dataset.training \\\n",
    "$TRAINING_FILE_PATH"
   ]
  },
  {
   "cell_type": "markdown",
   "metadata": {},
   "source": [
    "### Create a validation split\n",
    "\n",
    "Run the query below to create a validation split that takes 10% of the data using the `bq` command and export this split into the BigQuery table `covertype_dataset.validation`.\n",
    "\n",
    "In the second cell, use the `bq` command to export that BigQuery validation table to GCS at `$VALIDATION_FILE_PATH.`"
   ]
  },
  {
   "cell_type": "code",
   "execution_count": 16,
   "metadata": {},
   "outputs": [
    {
     "name": "stdout",
     "output_type": "stream",
     "text": [
      "Waiting on bqjob_r77b7a19d33d13b1f_000001868822b465_1 ... (1s) Current status: DONE   \n"
     ]
    }
   ],
   "source": [
    "!bq query \\\n",
    "-n 0 \\\n",
    "--destination_table covertype_dataset.validation \\\n",
    "--replace \\\n",
    "--use_legacy_sql=false \\\n",
    "'SELECT * \\\n",
    "FROM `covertype_dataset.covertype` AS cover \\\n",
    "WHERE \\\n",
    "MOD(ABS(FARM_FINGERPRINT(TO_JSON_STRING(cover))), 10) IN (8)' "
   ]
  },
  {
   "cell_type": "code",
   "execution_count": 17,
   "metadata": {},
   "outputs": [
    {
     "name": "stdout",
     "output_type": "stream",
     "text": [
      "Waiting on bqjob_r7891c1de7c95bc19_000001868822c8ca_1 ... (0s) Current status: DONE   \n"
     ]
    }
   ],
   "source": [
    "!bq extract \\\n",
    "--destination_format CSV \\\n",
    "covertype_dataset.validation \\\n",
    "$VALIDATION_FILE_PATH"
   ]
  },
  {
   "cell_type": "code",
   "execution_count": 26,
   "metadata": {},
   "outputs": [
    {
     "name": "stdout",
     "output_type": "stream",
     "text": [
      "gs://qwiklabs-gcp-03-99625653b8b8-kubeflowpipelines-default/data/training/\n",
      "gs://qwiklabs-gcp-03-99625653b8b8-kubeflowpipelines-default/data/validation/\n"
     ]
    }
   ],
   "source": [
    "!gsutil ls gs://qwiklabs-gcp-03-99625653b8b8-kubeflowpipelines-default/data/"
   ]
  },
  {
   "cell_type": "code",
   "execution_count": 27,
   "metadata": {},
   "outputs": [
    {
     "name": "stdout",
     "output_type": "stream",
     "text": [
      "(40009, 13)\n",
      "(9836, 13)\n"
     ]
    }
   ],
   "source": [
    "df_train = pd.read_csv(TRAINING_FILE_PATH)\n",
    "df_validation = pd.read_csv(VALIDATION_FILE_PATH)\n",
    "print(df_train.shape)\n",
    "print(df_validation.shape)"
   ]
  },
  {
   "cell_type": "markdown",
   "metadata": {},
   "source": [
    "## Develop a training application"
   ]
  },
  {
   "cell_type": "markdown",
   "metadata": {},
   "source": [
    "### Configure the `sklearn` training pipeline.\n",
    "\n",
    "The training pipeline preprocesses data by standardizing all numeric features using `sklearn.preprocessing.StandardScaler` and encoding all categorical features using `sklearn.preprocessing.OneHotEncoder`. It uses stochastic gradient descent linear classifier (`SGDClassifier`) for modeling."
   ]
  },
  {
   "cell_type": "code",
   "execution_count": 28,
   "metadata": {},
   "outputs": [],
   "source": [
    "numeric_feature_indexes = slice(0, 10)\n",
    "categorical_feature_indexes = slice(10, 12)\n",
    "\n",
    "preprocessor = ColumnTransformer(\n",
    "    transformers=[\n",
    "        ('num', StandardScaler(), numeric_feature_indexes),\n",
    "        ('cat', OneHotEncoder(), categorical_feature_indexes) \n",
    "    ])\n",
    "\n",
    "pipeline = Pipeline([\n",
    "    ('preprocessor', preprocessor),\n",
    "    ('classifier', SGDClassifier(loss='log', tol=1e-3))\n",
    "])"
   ]
  },
  {
   "cell_type": "markdown",
   "metadata": {},
   "source": [
    "### Convert all numeric features to `float64`\n",
    "\n",
    "To avoid warning messages from `StandardScaler` all numeric features are converted to `float64`."
   ]
  },
  {
   "cell_type": "code",
   "execution_count": 29,
   "metadata": {},
   "outputs": [],
   "source": [
    "num_features_type_map = {feature: 'float64' for feature in df_train.columns[numeric_feature_indexes]}\n",
    "\n",
    "df_train = df_train.astype(num_features_type_map)\n",
    "df_validation = df_validation.astype(num_features_type_map)"
   ]
  },
  {
   "cell_type": "markdown",
   "metadata": {},
   "source": [
    "### Run the pipeline locally."
   ]
  },
  {
   "cell_type": "code",
   "execution_count": 30,
   "metadata": {},
   "outputs": [
    {
     "data": {
      "text/plain": [
       "Pipeline(steps=[('preprocessor',\n",
       "                 ColumnTransformer(transformers=[('num', StandardScaler(),\n",
       "                                                  slice(0, 10, None)),\n",
       "                                                 ('cat', OneHotEncoder(),\n",
       "                                                  slice(10, 12, None))])),\n",
       "                ('classifier',\n",
       "                 SGDClassifier(alpha=0.001, loss='log', max_iter=200))])"
      ]
     },
     "execution_count": 30,
     "metadata": {},
     "output_type": "execute_result"
    }
   ],
   "source": [
    "X_train = df_train.drop('Cover_Type', axis=1)\n",
    "y_train = df_train['Cover_Type']\n",
    "X_validation = df_validation.drop('Cover_Type', axis=1)\n",
    "y_validation = df_validation['Cover_Type']\n",
    "\n",
    "pipeline.set_params(classifier__alpha=0.001, classifier__max_iter=200)\n",
    "pipeline.fit(X_train, y_train)"
   ]
  },
  {
   "cell_type": "markdown",
   "metadata": {},
   "source": [
    "### Calculate the trained model's accuracy."
   ]
  },
  {
   "cell_type": "code",
   "execution_count": 31,
   "metadata": {},
   "outputs": [
    {
     "name": "stdout",
     "output_type": "stream",
     "text": [
      "0.6985563237088247\n"
     ]
    }
   ],
   "source": [
    "accuracy = pipeline.score(X_validation, y_validation)\n",
    "print(accuracy)"
   ]
  },
  {
   "cell_type": "markdown",
   "metadata": {},
   "source": [
    "### Prepare the hyperparameter tuning application.\n",
    "Since the training run on this dataset is computationally expensive you can benefit from running a distributed hyperparameter tuning job on AI Platform Training."
   ]
  },
  {
   "cell_type": "code",
   "execution_count": 32,
   "metadata": {},
   "outputs": [],
   "source": [
    "TRAINING_APP_FOLDER = 'training_app'\n",
    "os.makedirs(TRAINING_APP_FOLDER, exist_ok=True)"
   ]
  },
  {
   "cell_type": "markdown",
   "metadata": {},
   "source": [
    "### Write the tuning script. \n",
    "\n",
    "Notice the use of the `hypertune` package to report the `accuracy` optimization metric to AI Platform hyperparameter tuning service."
   ]
  },
  {
   "cell_type": "code",
   "execution_count": 33,
   "metadata": {},
   "outputs": [
    {
     "name": "stdout",
     "output_type": "stream",
     "text": [
      "Writing training_app/train.py\n"
     ]
    }
   ],
   "source": [
    "%%writefile {TRAINING_APP_FOLDER}/train.py\n",
    "\n",
    "# Copyright 2019 Google Inc. All Rights Reserved.\n",
    "#\n",
    "# Licensed under the Apache License, Version 2.0 (the \"License\");\n",
    "# you may not use this file except in compliance with the License.\n",
    "# You may obtain a copy of the License at\n",
    "#\n",
    "#            http://www.apache.org/licenses/LICENSE-2.0\n",
    "#\n",
    "# Unless required by applicable law or agreed to in writing, software\n",
    "# distributed under the License is distributed on an \"AS IS\" BASIS,\n",
    "# WITHOUT WARRANTIES OR CONDITIONS OF ANY KIND, either express or implied.\n",
    "# See the License for the specific language governing permissions and\n",
    "# limitations under the License.\n",
    "\n",
    "import os\n",
    "import subprocess\n",
    "import sys\n",
    "\n",
    "import fire\n",
    "import pickle\n",
    "import numpy as np\n",
    "import pandas as pd\n",
    "\n",
    "import hypertune\n",
    "\n",
    "from sklearn.compose import ColumnTransformer\n",
    "from sklearn.linear_model import SGDClassifier\n",
    "from sklearn.pipeline import Pipeline\n",
    "from sklearn.preprocessing import StandardScaler, OneHotEncoder\n",
    "\n",
    "\n",
    "def train_evaluate(job_dir, training_dataset_path, validation_dataset_path, alpha, max_iter, hptune):\n",
    "    \n",
    "    df_train = pd.read_csv(training_dataset_path)\n",
    "    df_validation = pd.read_csv(validation_dataset_path)\n",
    "\n",
    "    if not hptune:\n",
    "        df_train = pd.concat([df_train, df_validation])\n",
    "\n",
    "    numeric_feature_indexes = slice(0, 10)\n",
    "    categorical_feature_indexes = slice(10, 12)\n",
    "\n",
    "    preprocessor = ColumnTransformer(\n",
    "    transformers=[\n",
    "        ('num', StandardScaler(), numeric_feature_indexes),\n",
    "        ('cat', OneHotEncoder(), categorical_feature_indexes) \n",
    "    ])\n",
    "\n",
    "    pipeline = Pipeline([\n",
    "        ('preprocessor', preprocessor),\n",
    "        ('classifier', SGDClassifier(loss='log',tol=1e-3))\n",
    "    ])\n",
    "\n",
    "    num_features_type_map = {feature: 'float64' for feature in df_train.columns[numeric_feature_indexes]}\n",
    "    df_train = df_train.astype(num_features_type_map)\n",
    "    df_validation = df_validation.astype(num_features_type_map) \n",
    "\n",
    "    print('Starting training: alpha={}, max_iter={}'.format(alpha, max_iter))\n",
    "    X_train = df_train.drop('Cover_Type', axis=1)\n",
    "    y_train = df_train['Cover_Type']\n",
    "\n",
    "    pipeline.set_params(classifier__alpha=alpha, classifier__max_iter=max_iter)\n",
    "    pipeline.fit(X_train, y_train)\n",
    "\n",
    "    if hptune:\n",
    "        X_validation = df_validation.drop('Cover_Type', axis=1)\n",
    "        y_validation = df_validation['Cover_Type']\n",
    "        accuracy = pipeline.score(X_validation, y_validation)\n",
    "        print('Model accuracy: {}'.format(accuracy))\n",
    "        # Log it with hypertune\n",
    "        hpt = hypertune.HyperTune()\n",
    "        hpt.report_hyperparameter_tuning_metric(\n",
    "          hyperparameter_metric_tag='accuracy',\n",
    "          metric_value=accuracy\n",
    "        )\n",
    "\n",
    "    # Save the model\n",
    "    if not hptune:\n",
    "        model_filename = 'model.pkl'\n",
    "        with open(model_filename, 'wb') as model_file:\n",
    "            pickle.dump(pipeline, model_file)\n",
    "        gcs_model_path = \"{}/{}\".format(job_dir, model_filename)\n",
    "        subprocess.check_call(['gsutil', 'cp', model_filename, gcs_model_path], stderr=sys.stdout)\n",
    "        print(\"Saved model in: {}\".format(gcs_model_path)) \n",
    "    \n",
    "if __name__ == \"__main__\":\n",
    "    fire.Fire(train_evaluate)"
   ]
  },
  {
   "cell_type": "markdown",
   "metadata": {},
   "source": [
    "### Package the script into a docker image.\n",
    "\n",
    "Notice that we are installing specific versions of `scikit-learn` and `pandas` in the training image. This is done to make sure that the training runtime is aligned with the serving runtime. Later in the notebook you will deploy the model to AI Platform Prediction, using the 1.15 version of AI Platform Prediction runtime. \n",
    "\n",
    "Make sure to update the URI for the base image so that it points to your project's **Container Registry**."
   ]
  },
  {
   "cell_type": "code",
   "execution_count": 34,
   "metadata": {},
   "outputs": [
    {
     "name": "stdout",
     "output_type": "stream",
     "text": [
      "Writing training_app/Dockerfile\n"
     ]
    }
   ],
   "source": [
    "%%writefile {TRAINING_APP_FOLDER}/Dockerfile\n",
    "\n",
    "FROM gcr.io/deeplearning-platform-release/base-cpu\n",
    "RUN pip install -U fire cloudml-hypertune scikit-learn==0.20.4 pandas==0.24.2\n",
    "WORKDIR /app\n",
    "COPY train.py .\n",
    "\n",
    "ENTRYPOINT [\"python\", \"train.py\"]"
   ]
  },
  {
   "cell_type": "markdown",
   "metadata": {},
   "source": [
    "### Build the docker image. \n",
    "\n",
    "You use **Cloud Build** to build the image and push it your project's **Container Registry**. As you use the remote cloud service to build the image, you don't need a local installation of Docker."
   ]
  },
  {
   "cell_type": "code",
   "execution_count": 35,
   "metadata": {},
   "outputs": [],
   "source": [
    "IMAGE_NAME='trainer_image'\n",
    "IMAGE_TAG='latest'\n",
    "IMAGE_URI='gcr.io/{}/{}:{}'.format(PROJECT_ID, IMAGE_NAME, IMAGE_TAG)"
   ]
  },
  {
   "cell_type": "code",
   "execution_count": 36,
   "metadata": {},
   "outputs": [
    {
     "name": "stdout",
     "output_type": "stream",
     "text": [
      "Creating temporary tarball archive of 2 file(s) totalling 3.2 KiB before compression.\n",
      "Uploading tarball of [training_app] to [gs://qwiklabs-gcp-03-99625653b8b8_cloudbuild/source/1677321546.728239-8ad63bb2e2fe49d88119201195892813.tgz]\n",
      "Created [https://cloudbuild.googleapis.com/v1/projects/qwiklabs-gcp-03-99625653b8b8/locations/global/builds/f0017b43-7dc6-41a0-9316-4662ab82c150].\n",
      "Logs are available at [ https://console.cloud.google.com/cloud-build/builds/f0017b43-7dc6-41a0-9316-4662ab82c150?project=177351111343 ].\n",
      "----------------------------- REMOTE BUILD OUTPUT ------------------------------\n",
      "starting build \"f0017b43-7dc6-41a0-9316-4662ab82c150\"\n",
      "\n",
      "FETCHSOURCE\n",
      "Fetching storage object: gs://qwiklabs-gcp-03-99625653b8b8_cloudbuild/source/1677321546.728239-8ad63bb2e2fe49d88119201195892813.tgz#1677321546985094\n",
      "Copying gs://qwiklabs-gcp-03-99625653b8b8_cloudbuild/source/1677321546.728239-8ad63bb2e2fe49d88119201195892813.tgz#1677321546985094...\n",
      "/ [1 files][  1.6 KiB/  1.6 KiB]                                                \n",
      "Operation completed over 1 objects/1.6 KiB.\n",
      "BUILD\n",
      "Already have image (with digest): gcr.io/cloud-builders/docker\n",
      "Sending build context to Docker daemon  5.632kB\n",
      "Step 1/5 : FROM gcr.io/deeplearning-platform-release/base-cpu\n",
      "latest: Pulling from deeplearning-platform-release/base-cpu\n",
      "846c0b181fff: Pulling fs layer\n",
      "0262b90c827a: Pulling fs layer\n",
      "94582730ee25: Pulling fs layer\n",
      "4f4fb700ef54: Pulling fs layer\n",
      "fdbfba2d28ed: Pulling fs layer\n",
      "4f4fb700ef54: Waiting\n",
      "57659115920f: Pulling fs layer\n",
      "105e94dcdb8c: Pulling fs layer\n",
      "1dfd2abf66a4: Pulling fs layer\n",
      "3202f2efe470: Pulling fs layer\n",
      "de0c8b77fdff: Pulling fs layer\n",
      "e5414ff3d65b: Pulling fs layer\n",
      "cdf5a5b77313: Pulling fs layer\n",
      "65deab6bafc4: Pulling fs layer\n",
      "e95a164d5c12: Pulling fs layer\n",
      "bba688a39323: Pulling fs layer\n",
      "171a421901cd: Pulling fs layer\n",
      "fa249cf147f5: Pulling fs layer\n",
      "194428869cce: Pulling fs layer\n",
      "afc32a09a27d: Pulling fs layer\n",
      "43b59cae3eea: Pulling fs layer\n",
      "4c37492a972d: Pulling fs layer\n",
      "bf0e5aa80a4b: Pulling fs layer\n",
      "6be4ae9c0343: Pulling fs layer\n",
      "fdbfba2d28ed: Waiting\n",
      "57659115920f: Waiting\n",
      "105e94dcdb8c: Waiting\n",
      "1dfd2abf66a4: Waiting\n",
      "3202f2efe470: Waiting\n",
      "de0c8b77fdff: Waiting\n",
      "e5414ff3d65b: Waiting\n",
      "cdf5a5b77313: Waiting\n",
      "65deab6bafc4: Waiting\n",
      "e95a164d5c12: Waiting\n",
      "bba688a39323: Waiting\n",
      "171a421901cd: Waiting\n",
      "fa249cf147f5: Waiting\n",
      "194428869cce: Waiting\n",
      "afc32a09a27d: Waiting\n",
      "43b59cae3eea: Waiting\n",
      "4c37492a972d: Waiting\n",
      "bf0e5aa80a4b: Waiting\n",
      "6be4ae9c0343: Waiting\n",
      "94582730ee25: Download complete\n",
      "4f4fb700ef54: Verifying Checksum\n",
      "4f4fb700ef54: Download complete\n",
      "846c0b181fff: Verifying Checksum\n",
      "846c0b181fff: Download complete\n",
      "0262b90c827a: Download complete\n",
      "105e94dcdb8c: Verifying Checksum\n",
      "105e94dcdb8c: Download complete\n",
      "1dfd2abf66a4: Verifying Checksum\n",
      "1dfd2abf66a4: Download complete\n",
      "3202f2efe470: Verifying Checksum\n",
      "3202f2efe470: Download complete\n",
      "57659115920f: Verifying Checksum\n",
      "57659115920f: Download complete\n",
      "e5414ff3d65b: Verifying Checksum\n",
      "e5414ff3d65b: Download complete\n",
      "cdf5a5b77313: Verifying Checksum\n",
      "cdf5a5b77313: Download complete\n",
      "65deab6bafc4: Verifying Checksum\n",
      "65deab6bafc4: Download complete\n",
      "e95a164d5c12: Verifying Checksum\n",
      "e95a164d5c12: Download complete\n",
      "bba688a39323: Verifying Checksum\n",
      "bba688a39323: Download complete\n",
      "171a421901cd: Verifying Checksum\n",
      "171a421901cd: Download complete\n",
      "de0c8b77fdff: Verifying Checksum\n",
      "de0c8b77fdff: Download complete\n",
      "194428869cce: Verifying Checksum\n",
      "194428869cce: Download complete\n",
      "fa249cf147f5: Verifying Checksum\n",
      "fa249cf147f5: Download complete\n",
      "afc32a09a27d: Verifying Checksum\n",
      "afc32a09a27d: Download complete\n",
      "43b59cae3eea: Download complete\n",
      "fdbfba2d28ed: Verifying Checksum\n",
      "fdbfba2d28ed: Download complete\n",
      "6be4ae9c0343: Verifying Checksum\n",
      "6be4ae9c0343: Download complete\n",
      "846c0b181fff: Pull complete\n",
      "bf0e5aa80a4b: Download complete\n",
      "0262b90c827a: Pull complete\n",
      "94582730ee25: Pull complete\n",
      "4f4fb700ef54: Pull complete\n",
      "4c37492a972d: Verifying Checksum\n",
      "4c37492a972d: Download complete\n",
      "fdbfba2d28ed: Pull complete\n",
      "57659115920f: Pull complete\n",
      "105e94dcdb8c: Pull complete\n",
      "1dfd2abf66a4: Pull complete\n",
      "3202f2efe470: Pull complete\n",
      "de0c8b77fdff: Pull complete\n",
      "e5414ff3d65b: Pull complete\n",
      "cdf5a5b77313: Pull complete\n",
      "65deab6bafc4: Pull complete\n",
      "e95a164d5c12: Pull complete\n",
      "bba688a39323: Pull complete\n",
      "171a421901cd: Pull complete\n",
      "fa249cf147f5: Pull complete\n",
      "194428869cce: Pull complete\n",
      "afc32a09a27d: Pull complete\n",
      "43b59cae3eea: Pull complete\n",
      "4c37492a972d: Pull complete\n",
      "bf0e5aa80a4b: Pull complete\n",
      "6be4ae9c0343: Pull complete\n",
      "Digest: sha256:0709f99ce9df3ba5ec3694fd64b6605b8922891a725810b5059456a363dd11b4\n",
      "Status: Downloaded newer image for gcr.io/deeplearning-platform-release/base-cpu:latest\n",
      " ---> 24f9aec7519e\n",
      "Step 2/5 : RUN pip install -U fire cloudml-hypertune scikit-learn==0.20.4 pandas==0.24.2\n",
      " ---> Running in a0d9a62aa3c6\n",
      "Collecting fire\n",
      "  Downloading fire-0.5.0.tar.gz (88 kB)\n",
      "     ━━━━━━━━━━━━━━━━━━━━━━━━━━━━━━━━━━━━━━━━ 88.3/88.3 kB 6.0 MB/s eta 0:00:00\n",
      "  Preparing metadata (setup.py): started\n",
      "  Preparing metadata (setup.py): finished with status 'done'\n",
      "Collecting cloudml-hypertune\n",
      "  Downloading cloudml-hypertune-0.1.0.dev6.tar.gz (3.2 kB)\n",
      "  Preparing metadata (setup.py): started\n",
      "  Preparing metadata (setup.py): finished with status 'done'\n",
      "Collecting scikit-learn==0.20.4\n",
      "  Downloading scikit_learn-0.20.4-cp37-cp37m-manylinux1_x86_64.whl (5.4 MB)\n",
      "     ━━━━━━━━━━━━━━━━━━━━━━━━━━━━━━━━━━━━━━━━ 5.4/5.4 MB 27.2 MB/s eta 0:00:00\n",
      "Collecting pandas==0.24.2\n",
      "  Downloading pandas-0.24.2-cp37-cp37m-manylinux1_x86_64.whl (10.1 MB)\n",
      "     ━━━━━━━━━━━━━━━━━━━━━━━━━━━━━━━━━━━━━━━━ 10.1/10.1 MB 29.6 MB/s eta 0:00:00\n",
      "Requirement already satisfied: scipy>=0.13.3 in /opt/conda/lib/python3.7/site-packages (from scikit-learn==0.20.4) (1.7.3)\n",
      "Requirement already satisfied: numpy>=1.8.2 in /opt/conda/lib/python3.7/site-packages (from scikit-learn==0.20.4) (1.21.6)\n",
      "Requirement already satisfied: python-dateutil>=2.5.0 in /opt/conda/lib/python3.7/site-packages (from pandas==0.24.2) (2.8.2)\n",
      "Requirement already satisfied: pytz>=2011k in /opt/conda/lib/python3.7/site-packages (from pandas==0.24.2) (2022.7.1)\n",
      "Requirement already satisfied: six in /opt/conda/lib/python3.7/site-packages (from fire) (1.16.0)\n",
      "Collecting termcolor\n",
      "  Downloading termcolor-2.2.0-py3-none-any.whl (6.6 kB)\n",
      "Building wheels for collected packages: fire, cloudml-hypertune\n",
      "  Building wheel for fire (setup.py): started\n",
      "  Building wheel for fire (setup.py): finished with status 'done'\n",
      "  Created wheel for fire: filename=fire-0.5.0-py2.py3-none-any.whl size=116931 sha256=bb90bd04e1adbf216b366d4daf3f948a0a3e2706f7c70bc76b9049f561856c73\n",
      "  Stored in directory: /root/.cache/pip/wheels/20/e8/7b/003fc14f02f262dd4614aec55e41147c8012e3dad98c936b76\n",
      "  Building wheel for cloudml-hypertune (setup.py): started\n",
      "  Building wheel for cloudml-hypertune (setup.py): finished with status 'done'\n",
      "  Created wheel for cloudml-hypertune: filename=cloudml_hypertune-0.1.0.dev6-py2.py3-none-any.whl size=3973 sha256=ea2cb8b0b39566020f6b96abc72b657ccc8eae659e7ccbc9e86485693ff33b16\n",
      "  Stored in directory: /root/.cache/pip/wheels/7c/fb/ed/cfc98e70373dfe12db85fffab293e3153162f63de2f6aa5473\n",
      "Successfully built fire cloudml-hypertune\n",
      "Installing collected packages: cloudml-hypertune, termcolor, scikit-learn, pandas, fire\n",
      "  Attempting uninstall: scikit-learn\n",
      "    Found existing installation: scikit-learn 1.0.2\n",
      "    Uninstalling scikit-learn-1.0.2:\n",
      "      Successfully uninstalled scikit-learn-1.0.2\n",
      "  Attempting uninstall: pandas\n",
      "    Found existing installation: pandas 1.3.5\n",
      "    Uninstalling pandas-1.3.5:\n",
      "      Successfully uninstalled pandas-1.3.5\n",
      "\u001b[91mERROR: pip's dependency resolver does not currently take into account all the packages that are installed. This behaviour is the source of the following dependency conflicts.\n",
      "visions 0.7.5 requires pandas>=0.25.3, but you have pandas 0.24.2 which is incompatible.\n",
      "statsmodels 0.13.5 requires pandas>=0.25, but you have pandas 0.24.2 which is incompatible.\n",
      "seaborn 0.12.2 requires pandas>=0.25, but you have pandas 0.24.2 which is incompatible.\n",
      "phik 0.12.3 requires pandas>=0.25.1, but you have pandas 0.24.2 which is incompatible.\n",
      "pandas-profiling 3.6.2 requires pandas!=1.4.0,<1.6,>1.1, but you have pandas 0.24.2 which is incompatible.\n",
      "\u001b[0mSuccessfully installed cloudml-hypertune-0.1.0.dev6 fire-0.5.0 pandas-0.24.2 scikit-learn-0.20.4 termcolor-2.2.0\n",
      "\u001b[91mWARNING: Running pip as the 'root' user can result in broken permissions and conflicting behaviour with the system package manager. It is recommended to use a virtual environment instead: https://pip.pypa.io/warnings/venv\n",
      "\u001b[0mRemoving intermediate container a0d9a62aa3c6\n",
      " ---> a33205b0815d\n",
      "Step 3/5 : WORKDIR /app\n",
      " ---> Running in 0ac332eafb51\n",
      "Removing intermediate container 0ac332eafb51\n",
      " ---> e39b42b35adc\n",
      "Step 4/5 : COPY train.py .\n",
      " ---> 3eea13a1754d\n",
      "Step 5/5 : ENTRYPOINT [\"python\", \"train.py\"]\n",
      " ---> Running in ebe0664fc0f6\n",
      "Removing intermediate container ebe0664fc0f6\n",
      " ---> 8f67306851cf\n",
      "Successfully built 8f67306851cf\n",
      "Successfully tagged gcr.io/qwiklabs-gcp-03-99625653b8b8/trainer_image:latest\n",
      "PUSH\n",
      "Pushing gcr.io/qwiklabs-gcp-03-99625653b8b8/trainer_image:latest\n",
      "The push refers to repository [gcr.io/qwiklabs-gcp-03-99625653b8b8/trainer_image]\n",
      "5d57a9968ada: Preparing\n",
      "b66c7384ed2e: Preparing\n",
      "cb92f05fc7a7: Preparing\n",
      "eb6f6b6579ab: Preparing\n",
      "7ddb7e11ff93: Preparing\n",
      "5c8baad34e32: Preparing\n",
      "9bd45ad48372: Preparing\n",
      "f7e5a23f26c7: Preparing\n",
      "c8d0f8950988: Preparing\n",
      "17f4d49e1816: Preparing\n",
      "687cd89a0b51: Preparing\n",
      "5280a42c1dce: Preparing\n",
      "5fd67125a305: Preparing\n",
      "308ed959addf: Preparing\n",
      "bcb419782cbc: Preparing\n",
      "80af522d481e: Preparing\n",
      "7eea273b6e49: Preparing\n",
      "2e3f4a474da9: Preparing\n",
      "bf78c9e497c6: Preparing\n",
      "ba904aab1189: Preparing\n",
      "5f70bf18a086: Preparing\n",
      "1feabd1a8af4: Preparing\n",
      "911cdb57b88b: Preparing\n",
      "5f70bf18a086: Preparing\n",
      "b610f5fa095b: Preparing\n",
      "60ffaefa78fb: Preparing\n",
      "0002c93bdb37: Preparing\n",
      "5c8baad34e32: Waiting\n",
      "9bd45ad48372: Waiting\n",
      "f7e5a23f26c7: Waiting\n",
      "c8d0f8950988: Waiting\n",
      "17f4d49e1816: Waiting\n",
      "687cd89a0b51: Waiting\n",
      "5280a42c1dce: Waiting\n",
      "5fd67125a305: Waiting\n",
      "308ed959addf: Waiting\n",
      "bcb419782cbc: Waiting\n",
      "80af522d481e: Waiting\n",
      "7eea273b6e49: Waiting\n",
      "2e3f4a474da9: Waiting\n",
      "bf78c9e497c6: Waiting\n",
      "ba904aab1189: Waiting\n",
      "5f70bf18a086: Waiting\n",
      "1feabd1a8af4: Waiting\n",
      "911cdb57b88b: Waiting\n",
      "b610f5fa095b: Waiting\n",
      "60ffaefa78fb: Waiting\n",
      "0002c93bdb37: Waiting\n",
      "eb6f6b6579ab: Layer already exists\n",
      "7ddb7e11ff93: Layer already exists\n",
      "5c8baad34e32: Layer already exists\n",
      "9bd45ad48372: Layer already exists\n",
      "f7e5a23f26c7: Layer already exists\n",
      "c8d0f8950988: Layer already exists\n",
      "17f4d49e1816: Layer already exists\n",
      "687cd89a0b51: Layer already exists\n",
      "5280a42c1dce: Layer already exists\n",
      "308ed959addf: Layer already exists\n",
      "5fd67125a305: Layer already exists\n",
      "80af522d481e: Layer already exists\n",
      "bcb419782cbc: Layer already exists\n",
      "2e3f4a474da9: Layer already exists\n",
      "7eea273b6e49: Layer already exists\n",
      "ba904aab1189: Layer already exists\n",
      "bf78c9e497c6: Layer already exists\n",
      "5f70bf18a086: Layer already exists\n",
      "1feabd1a8af4: Layer already exists\n",
      "911cdb57b88b: Layer already exists\n",
      "b610f5fa095b: Layer already exists\n",
      "60ffaefa78fb: Layer already exists\n",
      "0002c93bdb37: Layer already exists\n",
      "b66c7384ed2e: Pushed\n",
      "5d57a9968ada: Pushed\n",
      "cb92f05fc7a7: Pushed\n",
      "latest: digest: sha256:9f374b263b145949b54d50bc47cd7ca8b0a555b5a648db00a8095ae0cf0c982b size: 5967\n",
      "DONE\n",
      "--------------------------------------------------------------------------------\n",
      "ID                                    CREATE_TIME                DURATION  SOURCE                                                                                                      IMAGES                                                       STATUS\n",
      "f0017b43-7dc6-41a0-9316-4662ab82c150  2023-02-25T10:39:07+00:00  4M33S     gs://qwiklabs-gcp-03-99625653b8b8_cloudbuild/source/1677321546.728239-8ad63bb2e2fe49d88119201195892813.tgz  gcr.io/qwiklabs-gcp-03-99625653b8b8/trainer_image (+1 more)  SUCCESS\n"
     ]
    }
   ],
   "source": [
    "!gcloud builds submit --tag $IMAGE_URI $TRAINING_APP_FOLDER"
   ]
  },
  {
   "cell_type": "markdown",
   "metadata": {},
   "source": [
    "## Submit an AI Platform hyperparameter tuning job"
   ]
  },
  {
   "cell_type": "markdown",
   "metadata": {},
   "source": [
    "### Create the hyperparameter configuration file. \n",
    "Recall that the training code uses `SGDClassifier`. The training application has been designed to accept two hyperparameters that control `SGDClassifier`:\n",
    "- Max iterations\n",
    "- Alpha\n",
    "\n",
    "The below file configures AI Platform hypertuning to run up to 6 trials on up to three nodes and to choose from two discrete values of `max_iter` and the linear range betwee 0.00001 and 0.001 for `alpha`."
   ]
  },
  {
   "cell_type": "code",
   "execution_count": 37,
   "metadata": {},
   "outputs": [
    {
     "name": "stdout",
     "output_type": "stream",
     "text": [
      "Writing training_app/hptuning_config.yaml\n"
     ]
    }
   ],
   "source": [
    "%%writefile {TRAINING_APP_FOLDER}/hptuning_config.yaml\n",
    "\n",
    "# Copyright 2019 Google Inc. All Rights Reserved.\n",
    "#\n",
    "# Licensed under the Apache License, Version 2.0 (the \"License\");\n",
    "# you may not use this file except in compliance with the License.\n",
    "# You may obtain a copy of the License at\n",
    "#\n",
    "#            http://www.apache.org/licenses/LICENSE-2.0\n",
    "#\n",
    "# Unless required by applicable law or agreed to in writing, software\n",
    "# distributed under the License is distributed on an \"AS IS\" BASIS,\n",
    "# WITHOUT WARRANTIES OR CONDITIONS OF ANY KIND, either express or implied.\n",
    "# See the License for the specific language governing permissions and\n",
    "# limitations under the License.\n",
    "\n",
    "trainingInput:\n",
    "  hyperparameters:\n",
    "    goal: MAXIMIZE\n",
    "    maxTrials: 4\n",
    "    maxParallelTrials: 4\n",
    "    hyperparameterMetricTag: accuracy\n",
    "    enableTrialEarlyStopping: TRUE \n",
    "    params:\n",
    "    - parameterName: max_iter\n",
    "      type: DISCRETE\n",
    "      discreteValues: [\n",
    "          200,\n",
    "          500\n",
    "          ]\n",
    "    - parameterName: alpha\n",
    "      type: DOUBLE\n",
    "      minValue:  0.00001\n",
    "      maxValue:  0.001\n",
    "      scaleType: UNIT_LINEAR_SCALE"
   ]
  },
  {
   "cell_type": "markdown",
   "metadata": {},
   "source": [
    "### Start the hyperparameter tuning job.\n",
    "\n",
    "Use the `gcloud` command to start the hyperparameter tuning job."
   ]
  },
  {
   "cell_type": "code",
   "execution_count": 38,
   "metadata": {},
   "outputs": [
    {
     "name": "stdout",
     "output_type": "stream",
     "text": [
      "Job [JOB_20230225_104653] submitted successfully.\n",
      "Your job is still active. You may view the status of your job with the command\n",
      "\n",
      "  $ gcloud ai-platform jobs describe JOB_20230225_104653\n",
      "\n",
      "or continue streaming the logs with the command\n",
      "\n",
      "  $ gcloud ai-platform jobs stream-logs JOB_20230225_104653\n",
      "jobId: JOB_20230225_104653\n",
      "state: QUEUED\n"
     ]
    }
   ],
   "source": [
    "JOB_NAME = \"JOB_{}\".format(time.strftime(\"%Y%m%d_%H%M%S\"))\n",
    "JOB_DIR = \"{}/{}\".format(JOB_DIR_ROOT, JOB_NAME)\n",
    "SCALE_TIER = \"BASIC\"\n",
    "\n",
    "!gcloud ai-platform jobs submit training $JOB_NAME \\\n",
    "--region=$REGION \\\n",
    "--job-dir=$JOB_DIR \\\n",
    "--master-image-uri=$IMAGE_URI \\\n",
    "--scale-tier=$SCALE_TIER \\\n",
    "--config $TRAINING_APP_FOLDER/hptuning_config.yaml \\\n",
    "-- \\\n",
    "--training_dataset_path=$TRAINING_FILE_PATH \\\n",
    "--validation_dataset_path=$VALIDATION_FILE_PATH \\\n",
    "--hptune"
   ]
  },
  {
   "cell_type": "markdown",
   "metadata": {},
   "source": [
    "### Monitor the job.\n",
    "\n",
    "You can monitor the job using Google Cloud console or from within the notebook using `gcloud` commands."
   ]
  },
  {
   "cell_type": "code",
   "execution_count": 39,
   "metadata": {},
   "outputs": [
    {
     "name": "stdout",
     "output_type": "stream",
     "text": [
      "createTime: '2023-02-25T10:47:08Z'\n",
      "etag: ulsct1HLzII=\n",
      "jobId: JOB_20230225_104653\n",
      "jobPosition: '0'\n",
      "state: PREPARING\n",
      "trainingInput:\n",
      "  args:\n",
      "  - --training_dataset_path=gs://qwiklabs-gcp-03-99625653b8b8-kubeflowpipelines-default/data/training/dataset.csv\n",
      "  - --validation_dataset_path=gs://qwiklabs-gcp-03-99625653b8b8-kubeflowpipelines-default/data/validation/dataset.csv\n",
      "  - --hptune\n",
      "  hyperparameters:\n",
      "    enableTrialEarlyStopping: true\n",
      "    goal: MAXIMIZE\n",
      "    hyperparameterMetricTag: accuracy\n",
      "    maxParallelTrials: 4\n",
      "    maxTrials: 4\n",
      "    params:\n",
      "    - discreteValues:\n",
      "      - 200.0\n",
      "      - 500.0\n",
      "      parameterName: max_iter\n",
      "      type: DISCRETE\n",
      "    - maxValue: 0.001\n",
      "      minValue: 1e-05\n",
      "      parameterName: alpha\n",
      "      scaleType: UNIT_LINEAR_SCALE\n",
      "      type: DOUBLE\n",
      "  jobDir: gs://qwiklabs-gcp-03-99625653b8b8-kubeflowpipelines-default/jobs/JOB_20230225_104653\n",
      "  masterConfig:\n",
      "    imageUri: gcr.io/qwiklabs-gcp-03-99625653b8b8/trainer_image:latest\n",
      "  region: us-central1\n",
      "trainingOutput:\n",
      "  isHyperparameterTuningJob: true\n",
      "\n",
      "View job in the Cloud Console at:\n",
      "https://console.cloud.google.com/mlengine/jobs/JOB_20230225_104653?project=qwiklabs-gcp-03-99625653b8b8\n",
      "\n",
      "View logs at:\n",
      "https://console.cloud.google.com/logs?resource=ml_job%2Fjob_id%2FJOB_20230225_104653&project=qwiklabs-gcp-03-99625653b8b8\n"
     ]
    }
   ],
   "source": [
    "!gcloud ai-platform jobs describe $JOB_NAME"
   ]
  },
  {
   "cell_type": "code",
   "execution_count": 40,
   "metadata": {},
   "outputs": [
    {
     "name": "stdout",
     "output_type": "stream",
     "text": [
      "INFO\t2023-02-25 10:46:56 +0000\tservice\t\tValidating job requirements...\n",
      "INFO\t2023-02-25 10:47:08 +0000\tservice\t\tJob creation request has been successfully validated.\n",
      "INFO\t2023-02-25 10:47:08 +0000\tservice\t\tJob JOB_20230225_104653 is queued.\n",
      "INFO\t2023-02-25 10:47:18 +0000\tservice\t1\tWaiting for job to be provisioned.\n",
      "INFO\t2023-02-25 10:47:18 +0000\tservice\t3\tWaiting for job to be provisioned.\n",
      "INFO\t2023-02-25 10:47:18 +0000\tservice\t4\tWaiting for job to be provisioned.\n",
      "INFO\t2023-02-25 10:47:19 +0000\tservice\t2\tWaiting for job to be provisioned.\n",
      "INFO\t2023-02-25 10:47:21 +0000\tservice\t4\tWaiting for training program to start.\n",
      "INFO\t2023-02-25 10:47:21 +0000\tservice\t3\tWaiting for training program to start.\n",
      "INFO\t2023-02-25 10:47:21 +0000\tservice\t2\tWaiting for training program to start.\n",
      "INFO\t2023-02-25 10:47:21 +0000\tservice\t1\tWaiting for training program to start.\n",
      "NOTICE\t2023-02-25 10:47:53 +0000\tmaster-replica-0.gcsfuse\t2\tOpening GCS connection...\n",
      "NOTICE\t2023-02-25 10:47:53 +0000\tmaster-replica-0.gcsfuse\t2\tMounting file system \"gcsfuse\"...\n",
      "NOTICE\t2023-02-25 10:47:53 +0000\tmaster-replica-0.gcsfuse\t2\tFile system has been successfully mounted.\n",
      "NOTICE\t2023-02-25 10:47:54 +0000\tmaster-replica-0.gcsfuse\t4\tOpening GCS connection...\n",
      "NOTICE\t2023-02-25 10:47:54 +0000\tmaster-replica-0.gcsfuse\t4\tMounting file system \"gcsfuse\"...\n",
      "NOTICE\t2023-02-25 10:47:54 +0000\tmaster-replica-0.gcsfuse\t4\tFile system has been successfully mounted.\n",
      "NOTICE\t2023-02-25 10:47:56 +0000\tmaster-replica-0.gcsfuse\t1\tOpening GCS connection...\n",
      "NOTICE\t2023-02-25 10:47:56 +0000\tmaster-replica-0.gcsfuse\t1\tMounting file system \"gcsfuse\"...\n",
      "NOTICE\t2023-02-25 10:47:56 +0000\tmaster-replica-0.gcsfuse\t1\tFile system has been successfully mounted.\n",
      "ERROR\t2023-02-25 10:49:45 +0000\tmaster-replica-0\t2\t/opt/conda/lib/python3.7/site-packages/sklearn/utils/validation.py:37: DeprecationWarning: distutils Version classes are deprecated. Use packaging.version instead.\n",
      "ERROR\t2023-02-25 10:49:45 +0000\tmaster-replica-0\t2\t  LARGE_SPARSE_SUPPORTED = LooseVersion(scipy_version) >= '0.14.0'\n",
      "ERROR\t2023-02-25 10:49:45 +0000\tmaster-replica-0\t2\t/opt/conda/lib/python3.7/site-packages/sklearn/linear_model/least_angle.py:35: DeprecationWarning: `np.float` is a deprecated alias for the builtin `float`. To silence this warning, use `float` by itself. Doing this will not modify any behavior and is safe. If you specifically wanted the numpy scalar type, use `np.float64` here.\n",
      "ERROR\t2023-02-25 10:49:45 +0000\tmaster-replica-0\t2\tDeprecated in NumPy 1.20; for more details and guidance: https://numpy.org/devdocs/release/1.20.0-notes.html#deprecations\n",
      "ERROR\t2023-02-25 10:49:45 +0000\tmaster-replica-0\t2\t  eps=np.finfo(np.float).eps,\n",
      "ERROR\t2023-02-25 10:49:45 +0000\tmaster-replica-0\t2\t/opt/conda/lib/python3.7/site-packages/sklearn/linear_model/least_angle.py:597: DeprecationWarning: `np.float` is a deprecated alias for the builtin `float`. To silence this warning, use `float` by itself. Doing this will not modify any behavior and is safe. If you specifically wanted the numpy scalar type, use `np.float64` here.\n",
      "ERROR\t2023-02-25 10:49:45 +0000\tmaster-replica-0\t2\tDeprecated in NumPy 1.20; for more details and guidance: https://numpy.org/devdocs/release/1.20.0-notes.html#deprecations\n",
      "ERROR\t2023-02-25 10:49:45 +0000\tmaster-replica-0\t2\t  eps=np.finfo(np.float).eps, copy_X=True, fit_path=True,\n",
      "ERROR\t2023-02-25 10:49:45 +0000\tmaster-replica-0\t2\t/opt/conda/lib/python3.7/site-packages/sklearn/linear_model/least_angle.py:836: DeprecationWarning: `np.float` is a deprecated alias for the builtin `float`. To silence this warning, use `float` by itself. Doing this will not modify any behavior and is safe. If you specifically wanted the numpy scalar type, use `np.float64` here.\n",
      "ERROR\t2023-02-25 10:49:45 +0000\tmaster-replica-0\t2\tDeprecated in NumPy 1.20; for more details and guidance: https://numpy.org/devdocs/release/1.20.0-notes.html#deprecations\n",
      "ERROR\t2023-02-25 10:49:45 +0000\tmaster-replica-0\t2\t  eps=np.finfo(np.float).eps, copy_X=True, fit_path=True,\n",
      "ERROR\t2023-02-25 10:49:45 +0000\tmaster-replica-0\t2\t/opt/conda/lib/python3.7/site-packages/sklearn/linear_model/least_angle.py:862: DeprecationWarning: `np.float` is a deprecated alias for the builtin `float`. To silence this warning, use `float` by itself. Doing this will not modify any behavior and is safe. If you specifically wanted the numpy scalar type, use `np.float64` here.\n",
      "ERROR\t2023-02-25 10:49:45 +0000\tmaster-replica-0\t2\tDeprecated in NumPy 1.20; for more details and guidance: https://numpy.org/devdocs/release/1.20.0-notes.html#deprecations\n",
      "ERROR\t2023-02-25 10:49:45 +0000\tmaster-replica-0\t2\t  eps=np.finfo(np.float).eps, positive=False):\n",
      "ERROR\t2023-02-25 10:49:45 +0000\tmaster-replica-0\t2\t/opt/conda/lib/python3.7/site-packages/sklearn/linear_model/least_angle.py:1097: DeprecationWarning: `np.float` is a deprecated alias for the builtin `float`. To silence this warning, use `float` by itself. Doing this will not modify any behavior and is safe. If you specifically wanted the numpy scalar type, use `np.float64` here.\n",
      "ERROR\t2023-02-25 10:49:45 +0000\tmaster-replica-0\t2\tDeprecated in NumPy 1.20; for more details and guidance: https://numpy.org/devdocs/release/1.20.0-notes.html#deprecations\n",
      "ERROR\t2023-02-25 10:49:45 +0000\tmaster-replica-0\t2\t  max_n_alphas=1000, n_jobs=None, eps=np.finfo(np.float).eps,\n",
      "ERROR\t2023-02-25 10:49:45 +0000\tmaster-replica-0\t2\t/opt/conda/lib/python3.7/site-packages/sklearn/linear_model/least_angle.py:1344: DeprecationWarning: `np.float` is a deprecated alias for the builtin `float`. To silence this warning, use `float` by itself. Doing this will not modify any behavior and is safe. If you specifically wanted the numpy scalar type, use `np.float64` here.\n",
      "ERROR\t2023-02-25 10:49:45 +0000\tmaster-replica-0\t2\tDeprecated in NumPy 1.20; for more details and guidance: https://numpy.org/devdocs/release/1.20.0-notes.html#deprecations\n",
      "ERROR\t2023-02-25 10:49:45 +0000\tmaster-replica-0\t2\t  max_n_alphas=1000, n_jobs=None, eps=np.finfo(np.float).eps,\n",
      "ERROR\t2023-02-25 10:49:45 +0000\tmaster-replica-0\t2\t/opt/conda/lib/python3.7/site-packages/sklearn/linear_model/least_angle.py:1480: DeprecationWarning: `np.float` is a deprecated alias for the builtin `float`. To silence this warning, use `float` by itself. Doing this will not modify any behavior and is safe. If you specifically wanted the numpy scalar type, use `np.float64` here.\n",
      "ERROR\t2023-02-25 10:49:45 +0000\tmaster-replica-0\t2\tDeprecated in NumPy 1.20; for more details and guidance: https://numpy.org/devdocs/release/1.20.0-notes.html#deprecations\n",
      "ERROR\t2023-02-25 10:49:45 +0000\tmaster-replica-0\t2\t  eps=np.finfo(np.float).eps, copy_X=True, positive=False):\n",
      "ERROR\t2023-02-25 10:49:45 +0000\tmaster-replica-0\t2\t/opt/conda/lib/python3.7/site-packages/sklearn/linear_model/randomized_l1.py:152: DeprecationWarning: `np.float` is a deprecated alias for the builtin `float`. To silence this warning, use `float` by itself. Doing this will not modify any behavior and is safe. If you specifically wanted the numpy scalar type, use `np.float64` here.\n",
      "ERROR\t2023-02-25 10:49:45 +0000\tmaster-replica-0\t2\tDeprecated in NumPy 1.20; for more details and guidance: https://numpy.org/devdocs/release/1.20.0-notes.html#deprecations\n",
      "ERROR\t2023-02-25 10:49:45 +0000\tmaster-replica-0\t2\t  precompute=False, eps=np.finfo(np.float).eps,\n",
      "ERROR\t2023-02-25 10:49:45 +0000\tmaster-replica-0\t2\t/opt/conda/lib/python3.7/site-packages/sklearn/linear_model/randomized_l1.py:320: DeprecationWarning: `np.float` is a deprecated alias for the builtin `float`. To silence this warning, use `float` by itself. Doing this will not modify any behavior and is safe. If you specifically wanted the numpy scalar type, use `np.float64` here.\n",
      "ERROR\t2023-02-25 10:49:45 +0000\tmaster-replica-0\t2\tDeprecated in NumPy 1.20; for more details and guidance: https://numpy.org/devdocs/release/1.20.0-notes.html#deprecations\n",
      "ERROR\t2023-02-25 10:49:45 +0000\tmaster-replica-0\t2\t  eps=np.finfo(np.float).eps, random_state=None,\n",
      "ERROR\t2023-02-25 10:49:45 +0000\tmaster-replica-0\t2\t/opt/conda/lib/python3.7/site-packages/sklearn/linear_model/randomized_l1.py:580: DeprecationWarning: `np.float` is a deprecated alias for the builtin `float`. To silence this warning, use `float` by itself. Doing this will not modify any behavior and is safe. If you specifically wanted the numpy scalar type, use `np.float64` here.\n",
      "ERROR\t2023-02-25 10:49:45 +0000\tmaster-replica-0\t2\tDeprecated in NumPy 1.20; for more details and guidance: https://numpy.org/devdocs/release/1.20.0-notes.html#deprecations\n",
      "ERROR\t2023-02-25 10:49:45 +0000\tmaster-replica-0\t2\t  eps=4 * np.finfo(np.float).eps, n_jobs=None,\n",
      "ERROR\t2023-02-25 10:49:45 +0000\tmaster-replica-0\t2\t/opt/conda/lib/python3.7/site-packages/sklearn/utils/validation.py:209: DeprecationWarning: distutils Version classes are deprecated. Use packaging.version instead.\n",
      "ERROR\t2023-02-25 10:49:45 +0000\tmaster-replica-0\t2\t  if LooseVersion(joblib_version) < '0.12':\n",
      "ERROR\t2023-02-25 10:49:45 +0000\tmaster-replica-0\t2\t/opt/conda/lib/python3.7/site-packages/sklearn/preprocessing/_encoders.py:354: DeprecationWarning: `np.int` is a deprecated alias for the builtin `int`. To silence this warning, use `int` by itself. Doing this will not modify any behavior and is safe. When replacing `np.int`, you may wish to use e.g. `np.int64` or `np.int32` to specify the precision. If you wish to review your current use, check the release note link for additional information.\n",
      "ERROR\t2023-02-25 10:49:45 +0000\tmaster-replica-0\t2\tDeprecated in NumPy 1.20; for more details and guidance: https://numpy.org/devdocs/release/1.20.0-notes.html#deprecations\n",
      "ERROR\t2023-02-25 10:49:45 +0000\tmaster-replica-0\t2\t  X = check_array(X, dtype=np.int)\n",
      "ERROR\t2023-02-25 10:49:45 +0000\tmaster-replica-0\t2\t/opt/conda/lib/python3.7/site-packages/sklearn/preprocessing/_encoders.py:95: DeprecationWarning: `np.int` is a deprecated alias for the builtin `int`. To silence this warning, use `int` by itself. Doing this will not modify any behavior and is safe. When replacing `np.int`, you may wish to use e.g. `np.int64` or `np.int32` to specify the precision. If you wish to review your current use, check the release note link for additional information.\n",
      "ERROR\t2023-02-25 10:49:45 +0000\tmaster-replica-0\t2\tDeprecated in NumPy 1.20; for more details and guidance: https://numpy.org/devdocs/release/1.20.0-notes.html#deprecations\n",
      "ERROR\t2023-02-25 10:49:45 +0000\tmaster-replica-0\t2\t  X_int = np.zeros_like(X, dtype=np.int)\n",
      "ERROR\t2023-02-25 10:49:45 +0000\tmaster-replica-0\t2\t/opt/conda/lib/python3.7/site-packages/sklearn/preprocessing/_encoders.py:96: DeprecationWarning: `np.bool` is a deprecated alias for the builtin `bool`. To silence this warning, use `bool` by itself. Doing this will not modify any behavior and is safe. If you specifically wanted the numpy scalar type, use `np.bool_` here.\n",
      "ERROR\t2023-02-25 10:49:45 +0000\tmaster-replica-0\t2\tDeprecated in NumPy 1.20; for more details and guidance: https://numpy.org/devdocs/release/1.20.0-notes.html#deprecations\n",
      "ERROR\t2023-02-25 10:49:45 +0000\tmaster-replica-0\t2\t  X_mask = np.ones_like(X, dtype=np.bool)\n",
      "ERROR\t2023-02-25 10:49:45 +0000\tmaster-replica-0\t2\t/opt/conda/lib/python3.7/site-packages/sklearn/utils/fixes.py:357: DeprecationWarning: distutils Version classes are deprecated. Use packaging.version instead.\n",
      "ERROR\t2023-02-25 10:49:45 +0000\tmaster-replica-0\t2\t  if _joblib.__version__ >= LooseVersion('0.12'):\n",
      "ERROR\t2023-02-25 10:49:45 +0000\tmaster-replica-0\t2\t/opt/conda/lib/python3.7/site-packages/sklearn/preprocessing/_encoders.py:95: DeprecationWarning: `np.int` is a deprecated alias for the builtin `int`. To silence this warning, use `int` by itself. Doing this will not modify any behavior and is safe. When replacing `np.int`, you may wish to use e.g. `np.int64` or `np.int32` to specify the precision. If you wish to review your current use, check the release note link for additional information.\n",
      "ERROR\t2023-02-25 10:49:45 +0000\tmaster-replica-0\t2\tDeprecated in NumPy 1.20; for more details and guidance: https://numpy.org/devdocs/release/1.20.0-notes.html#deprecations\n",
      "ERROR\t2023-02-25 10:49:45 +0000\tmaster-replica-0\t2\t  X_int = np.zeros_like(X, dtype=np.int)\n",
      "ERROR\t2023-02-25 10:49:45 +0000\tmaster-replica-0\t2\t/opt/conda/lib/python3.7/site-packages/sklearn/preprocessing/_encoders.py:96: DeprecationWarning: `np.bool` is a deprecated alias for the builtin `bool`. To silence this warning, use `bool` by itself. Doing this will not modify any behavior and is safe. If you specifically wanted the numpy scalar type, use `np.bool_` here.\n",
      "ERROR\t2023-02-25 10:49:45 +0000\tmaster-replica-0\t2\tDeprecated in NumPy 1.20; for more details and guidance: https://numpy.org/devdocs/release/1.20.0-notes.html#deprecations\n",
      "ERROR\t2023-02-25 10:49:45 +0000\tmaster-replica-0\t2\t  X_mask = np.ones_like(X, dtype=np.bool)\n",
      "INFO\t2023-02-25 10:49:45 +0000\tmaster-replica-0\t2\tStarting training: alpha=0.00028751901467049374, max_iter=200\n",
      "INFO\t2023-02-25 10:49:45 +0000\tmaster-replica-0\t2\tModel accuracy: 0.6973363155754372\n",
      "ERROR\t2023-02-25 10:49:47 +0000\tmaster-replica-0\t4\t/opt/conda/lib/python3.7/site-packages/sklearn/utils/validation.py:37: DeprecationWarning: distutils Version classes are deprecated. Use packaging.version instead.\n",
      "ERROR\t2023-02-25 10:49:47 +0000\tmaster-replica-0\t4\t  LARGE_SPARSE_SUPPORTED = LooseVersion(scipy_version) >= '0.14.0'\n",
      "ERROR\t2023-02-25 10:49:47 +0000\tmaster-replica-0\t4\t/opt/conda/lib/python3.7/site-packages/sklearn/linear_model/least_angle.py:35: DeprecationWarning: `np.float` is a deprecated alias for the builtin `float`. To silence this warning, use `float` by itself. Doing this will not modify any behavior and is safe. If you specifically wanted the numpy scalar type, use `np.float64` here.\n",
      "ERROR\t2023-02-25 10:49:47 +0000\tmaster-replica-0\t4\tDeprecated in NumPy 1.20; for more details and guidance: https://numpy.org/devdocs/release/1.20.0-notes.html#deprecations\n",
      "ERROR\t2023-02-25 10:49:47 +0000\tmaster-replica-0\t4\t  eps=np.finfo(np.float).eps,\n",
      "ERROR\t2023-02-25 10:49:47 +0000\tmaster-replica-0\t4\t/opt/conda/lib/python3.7/site-packages/sklearn/linear_model/least_angle.py:597: DeprecationWarning: `np.float` is a deprecated alias for the builtin `float`. To silence this warning, use `float` by itself. Doing this will not modify any behavior and is safe. If you specifically wanted the numpy scalar type, use `np.float64` here.\n",
      "ERROR\t2023-02-25 10:49:47 +0000\tmaster-replica-0\t4\tDeprecated in NumPy 1.20; for more details and guidance: https://numpy.org/devdocs/release/1.20.0-notes.html#deprecations\n",
      "ERROR\t2023-02-25 10:49:47 +0000\tmaster-replica-0\t4\t  eps=np.finfo(np.float).eps, copy_X=True, fit_path=True,\n",
      "ERROR\t2023-02-25 10:49:47 +0000\tmaster-replica-0\t4\t/opt/conda/lib/python3.7/site-packages/sklearn/linear_model/least_angle.py:836: DeprecationWarning: `np.float` is a deprecated alias for the builtin `float`. To silence this warning, use `float` by itself. Doing this will not modify any behavior and is safe. If you specifically wanted the numpy scalar type, use `np.float64` here.\n",
      "ERROR\t2023-02-25 10:49:47 +0000\tmaster-replica-0\t4\tDeprecated in NumPy 1.20; for more details and guidance: https://numpy.org/devdocs/release/1.20.0-notes.html#deprecations\n",
      "ERROR\t2023-02-25 10:49:47 +0000\tmaster-replica-0\t4\t  eps=np.finfo(np.float).eps, copy_X=True, fit_path=True,\n",
      "ERROR\t2023-02-25 10:49:47 +0000\tmaster-replica-0\t4\t/opt/conda/lib/python3.7/site-packages/sklearn/linear_model/least_angle.py:862: DeprecationWarning: `np.float` is a deprecated alias for the builtin `float`. To silence this warning, use `float` by itself. Doing this will not modify any behavior and is safe. If you specifically wanted the numpy scalar type, use `np.float64` here.\n",
      "ERROR\t2023-02-25 10:49:47 +0000\tmaster-replica-0\t4\tDeprecated in NumPy 1.20; for more details and guidance: https://numpy.org/devdocs/release/1.20.0-notes.html#deprecations\n",
      "ERROR\t2023-02-25 10:49:47 +0000\tmaster-replica-0\t4\t  eps=np.finfo(np.float).eps, positive=False):\n",
      "ERROR\t2023-02-25 10:49:47 +0000\tmaster-replica-0\t4\t/opt/conda/lib/python3.7/site-packages/sklearn/linear_model/least_angle.py:1097: DeprecationWarning: `np.float` is a deprecated alias for the builtin `float`. To silence this warning, use `float` by itself. Doing this will not modify any behavior and is safe. If you specifically wanted the numpy scalar type, use `np.float64` here.\n",
      "ERROR\t2023-02-25 10:49:47 +0000\tmaster-replica-0\t4\tDeprecated in NumPy 1.20; for more details and guidance: https://numpy.org/devdocs/release/1.20.0-notes.html#deprecations\n",
      "ERROR\t2023-02-25 10:49:47 +0000\tmaster-replica-0\t4\t  max_n_alphas=1000, n_jobs=None, eps=np.finfo(np.float).eps,\n",
      "ERROR\t2023-02-25 10:49:47 +0000\tmaster-replica-0\t4\t/opt/conda/lib/python3.7/site-packages/sklearn/linear_model/least_angle.py:1344: DeprecationWarning: `np.float` is a deprecated alias for the builtin `float`. To silence this warning, use `float` by itself. Doing this will not modify any behavior and is safe. If you specifically wanted the numpy scalar type, use `np.float64` here.\n",
      "ERROR\t2023-02-25 10:49:47 +0000\tmaster-replica-0\t4\tDeprecated in NumPy 1.20; for more details and guidance: https://numpy.org/devdocs/release/1.20.0-notes.html#deprecations\n",
      "ERROR\t2023-02-25 10:49:47 +0000\tmaster-replica-0\t4\t  max_n_alphas=1000, n_jobs=None, eps=np.finfo(np.float).eps,\n",
      "ERROR\t2023-02-25 10:49:47 +0000\tmaster-replica-0\t4\t/opt/conda/lib/python3.7/site-packages/sklearn/linear_model/least_angle.py:1480: DeprecationWarning: `np.float` is a deprecated alias for the builtin `float`. To silence this warning, use `float` by itself. Doing this will not modify any behavior and is safe. If you specifically wanted the numpy scalar type, use `np.float64` here.\n",
      "ERROR\t2023-02-25 10:49:47 +0000\tmaster-replica-0\t4\tDeprecated in NumPy 1.20; for more details and guidance: https://numpy.org/devdocs/release/1.20.0-notes.html#deprecations\n",
      "ERROR\t2023-02-25 10:49:47 +0000\tmaster-replica-0\t4\t  eps=np.finfo(np.float).eps, copy_X=True, positive=False):\n",
      "ERROR\t2023-02-25 10:49:47 +0000\tmaster-replica-0\t4\t/opt/conda/lib/python3.7/site-packages/sklearn/linear_model/randomized_l1.py:152: DeprecationWarning: `np.float` is a deprecated alias for the builtin `float`. To silence this warning, use `float` by itself. Doing this will not modify any behavior and is safe. If you specifically wanted the numpy scalar type, use `np.float64` here.\n",
      "ERROR\t2023-02-25 10:49:47 +0000\tmaster-replica-0\t4\tDeprecated in NumPy 1.20; for more details and guidance: https://numpy.org/devdocs/release/1.20.0-notes.html#deprecations\n",
      "ERROR\t2023-02-25 10:49:47 +0000\tmaster-replica-0\t4\t  precompute=False, eps=np.finfo(np.float).eps,\n",
      "ERROR\t2023-02-25 10:49:47 +0000\tmaster-replica-0\t4\t/opt/conda/lib/python3.7/site-packages/sklearn/linear_model/randomized_l1.py:320: DeprecationWarning: `np.float` is a deprecated alias for the builtin `float`. To silence this warning, use `float` by itself. Doing this will not modify any behavior and is safe. If you specifically wanted the numpy scalar type, use `np.float64` here.\n",
      "ERROR\t2023-02-25 10:49:47 +0000\tmaster-replica-0\t4\tDeprecated in NumPy 1.20; for more details and guidance: https://numpy.org/devdocs/release/1.20.0-notes.html#deprecations\n",
      "ERROR\t2023-02-25 10:49:47 +0000\tmaster-replica-0\t4\t  eps=np.finfo(np.float).eps, random_state=None,\n",
      "ERROR\t2023-02-25 10:49:47 +0000\tmaster-replica-0\t4\t/opt/conda/lib/python3.7/site-packages/sklearn/linear_model/randomized_l1.py:580: DeprecationWarning: `np.float` is a deprecated alias for the builtin `float`. To silence this warning, use `float` by itself. Doing this will not modify any behavior and is safe. If you specifically wanted the numpy scalar type, use `np.float64` here.\n",
      "ERROR\t2023-02-25 10:49:47 +0000\tmaster-replica-0\t4\tDeprecated in NumPy 1.20; for more details and guidance: https://numpy.org/devdocs/release/1.20.0-notes.html#deprecations\n",
      "ERROR\t2023-02-25 10:49:47 +0000\tmaster-replica-0\t4\t  eps=4 * np.finfo(np.float).eps, n_jobs=None,\n",
      "ERROR\t2023-02-25 10:49:47 +0000\tmaster-replica-0\t4\t/opt/conda/lib/python3.7/site-packages/sklearn/utils/validation.py:209: DeprecationWarning: distutils Version classes are deprecated. Use packaging.version instead.\n",
      "ERROR\t2023-02-25 10:49:47 +0000\tmaster-replica-0\t4\t  if LooseVersion(joblib_version) < '0.12':\n",
      "ERROR\t2023-02-25 10:49:47 +0000\tmaster-replica-0\t4\t/opt/conda/lib/python3.7/site-packages/sklearn/preprocessing/_encoders.py:354: DeprecationWarning: `np.int` is a deprecated alias for the builtin `int`. To silence this warning, use `int` by itself. Doing this will not modify any behavior and is safe. When replacing `np.int`, you may wish to use e.g. `np.int64` or `np.int32` to specify the precision. If you wish to review your current use, check the release note link for additional information.\n",
      "ERROR\t2023-02-25 10:49:47 +0000\tmaster-replica-0\t4\tDeprecated in NumPy 1.20; for more details and guidance: https://numpy.org/devdocs/release/1.20.0-notes.html#deprecations\n",
      "ERROR\t2023-02-25 10:49:47 +0000\tmaster-replica-0\t4\t  X = check_array(X, dtype=np.int)\n",
      "ERROR\t2023-02-25 10:49:47 +0000\tmaster-replica-0\t4\t/opt/conda/lib/python3.7/site-packages/sklearn/preprocessing/_encoders.py:95: DeprecationWarning: `np.int` is a deprecated alias for the builtin `int`. To silence this warning, use `int` by itself. Doing this will not modify any behavior and is safe. When replacing `np.int`, you may wish to use e.g. `np.int64` or `np.int32` to specify the precision. If you wish to review your current use, check the release note link for additional information.\n",
      "ERROR\t2023-02-25 10:49:47 +0000\tmaster-replica-0\t4\tDeprecated in NumPy 1.20; for more details and guidance: https://numpy.org/devdocs/release/1.20.0-notes.html#deprecations\n",
      "ERROR\t2023-02-25 10:49:47 +0000\tmaster-replica-0\t4\t  X_int = np.zeros_like(X, dtype=np.int)\n",
      "ERROR\t2023-02-25 10:49:47 +0000\tmaster-replica-0\t4\t/opt/conda/lib/python3.7/site-packages/sklearn/preprocessing/_encoders.py:96: DeprecationWarning: `np.bool` is a deprecated alias for the builtin `bool`. To silence this warning, use `bool` by itself. Doing this will not modify any behavior and is safe. If you specifically wanted the numpy scalar type, use `np.bool_` here.\n",
      "ERROR\t2023-02-25 10:49:47 +0000\tmaster-replica-0\t4\tDeprecated in NumPy 1.20; for more details and guidance: https://numpy.org/devdocs/release/1.20.0-notes.html#deprecations\n",
      "ERROR\t2023-02-25 10:49:47 +0000\tmaster-replica-0\t4\t  X_mask = np.ones_like(X, dtype=np.bool)\n",
      "ERROR\t2023-02-25 10:49:47 +0000\tmaster-replica-0\t4\t/opt/conda/lib/python3.7/site-packages/sklearn/utils/fixes.py:357: DeprecationWarning: distutils Version classes are deprecated. Use packaging.version instead.\n",
      "ERROR\t2023-02-25 10:49:47 +0000\tmaster-replica-0\t4\t  if _joblib.__version__ >= LooseVersion('0.12'):\n",
      "ERROR\t2023-02-25 10:49:47 +0000\tmaster-replica-0\t4\t/opt/conda/lib/python3.7/site-packages/sklearn/preprocessing/_encoders.py:95: DeprecationWarning: `np.int` is a deprecated alias for the builtin `int`. To silence this warning, use `int` by itself. Doing this will not modify any behavior and is safe. When replacing `np.int`, you may wish to use e.g. `np.int64` or `np.int32` to specify the precision. If you wish to review your current use, check the release note link for additional information.\n",
      "ERROR\t2023-02-25 10:49:47 +0000\tmaster-replica-0\t4\tDeprecated in NumPy 1.20; for more details and guidance: https://numpy.org/devdocs/release/1.20.0-notes.html#deprecations\n",
      "ERROR\t2023-02-25 10:49:47 +0000\tmaster-replica-0\t4\t  X_int = np.zeros_like(X, dtype=np.int)\n",
      "ERROR\t2023-02-25 10:49:47 +0000\tmaster-replica-0\t4\t/opt/conda/lib/python3.7/site-packages/sklearn/preprocessing/_encoders.py:96: DeprecationWarning: `np.bool` is a deprecated alias for the builtin `bool`. To silence this warning, use `bool` by itself. Doing this will not modify any behavior and is safe. If you specifically wanted the numpy scalar type, use `np.bool_` here.\n",
      "ERROR\t2023-02-25 10:49:47 +0000\tmaster-replica-0\t4\tDeprecated in NumPy 1.20; for more details and guidance: https://numpy.org/devdocs/release/1.20.0-notes.html#deprecations\n",
      "ERROR\t2023-02-25 10:49:47 +0000\tmaster-replica-0\t4\t  X_mask = np.ones_like(X, dtype=np.bool)\n",
      "INFO\t2023-02-25 10:49:47 +0000\tmaster-replica-0\t4\tStarting training: alpha=0.0002397806626313064, max_iter=200\n",
      "INFO\t2023-02-25 10:49:47 +0000\tmaster-replica-0\t4\tModel accuracy: 0.6979463196421309\n",
      "ERROR\t2023-02-25 10:49:48 +0000\tmaster-replica-0\t1\t/opt/conda/lib/python3.7/site-packages/sklearn/utils/validation.py:37: DeprecationWarning: distutils Version classes are deprecated. Use packaging.version instead.\n",
      "ERROR\t2023-02-25 10:49:48 +0000\tmaster-replica-0\t1\t  LARGE_SPARSE_SUPPORTED = LooseVersion(scipy_version) >= '0.14.0'\n",
      "ERROR\t2023-02-25 10:49:48 +0000\tmaster-replica-0\t1\t/opt/conda/lib/python3.7/site-packages/sklearn/linear_model/least_angle.py:35: DeprecationWarning: `np.float` is a deprecated alias for the builtin `float`. To silence this warning, use `float` by itself. Doing this will not modify any behavior and is safe. If you specifically wanted the numpy scalar type, use `np.float64` here.\n",
      "ERROR\t2023-02-25 10:49:48 +0000\tmaster-replica-0\t1\tDeprecated in NumPy 1.20; for more details and guidance: https://numpy.org/devdocs/release/1.20.0-notes.html#deprecations\n",
      "ERROR\t2023-02-25 10:49:48 +0000\tmaster-replica-0\t1\t  eps=np.finfo(np.float).eps,\n",
      "ERROR\t2023-02-25 10:49:48 +0000\tmaster-replica-0\t1\t/opt/conda/lib/python3.7/site-packages/sklearn/linear_model/least_angle.py:597: DeprecationWarning: `np.float` is a deprecated alias for the builtin `float`. To silence this warning, use `float` by itself. Doing this will not modify any behavior and is safe. If you specifically wanted the numpy scalar type, use `np.float64` here.\n",
      "ERROR\t2023-02-25 10:49:48 +0000\tmaster-replica-0\t1\tDeprecated in NumPy 1.20; for more details and guidance: https://numpy.org/devdocs/release/1.20.0-notes.html#deprecations\n",
      "ERROR\t2023-02-25 10:49:48 +0000\tmaster-replica-0\t1\t  eps=np.finfo(np.float).eps, copy_X=True, fit_path=True,\n",
      "ERROR\t2023-02-25 10:49:48 +0000\tmaster-replica-0\t1\t/opt/conda/lib/python3.7/site-packages/sklearn/linear_model/least_angle.py:836: DeprecationWarning: `np.float` is a deprecated alias for the builtin `float`. To silence this warning, use `float` by itself. Doing this will not modify any behavior and is safe. If you specifically wanted the numpy scalar type, use `np.float64` here.\n",
      "ERROR\t2023-02-25 10:49:48 +0000\tmaster-replica-0\t1\tDeprecated in NumPy 1.20; for more details and guidance: https://numpy.org/devdocs/release/1.20.0-notes.html#deprecations\n",
      "ERROR\t2023-02-25 10:49:48 +0000\tmaster-replica-0\t1\t  eps=np.finfo(np.float).eps, copy_X=True, fit_path=True,\n",
      "ERROR\t2023-02-25 10:49:48 +0000\tmaster-replica-0\t1\t/opt/conda/lib/python3.7/site-packages/sklearn/linear_model/least_angle.py:862: DeprecationWarning: `np.float` is a deprecated alias for the builtin `float`. To silence this warning, use `float` by itself. Doing this will not modify any behavior and is safe. If you specifically wanted the numpy scalar type, use `np.float64` here.\n",
      "ERROR\t2023-02-25 10:49:48 +0000\tmaster-replica-0\t1\tDeprecated in NumPy 1.20; for more details and guidance: https://numpy.org/devdocs/release/1.20.0-notes.html#deprecations\n",
      "ERROR\t2023-02-25 10:49:48 +0000\tmaster-replica-0\t1\t  eps=np.finfo(np.float).eps, positive=False):\n",
      "ERROR\t2023-02-25 10:49:48 +0000\tmaster-replica-0\t1\t/opt/conda/lib/python3.7/site-packages/sklearn/linear_model/least_angle.py:1097: DeprecationWarning: `np.float` is a deprecated alias for the builtin `float`. To silence this warning, use `float` by itself. Doing this will not modify any behavior and is safe. If you specifically wanted the numpy scalar type, use `np.float64` here.\n",
      "ERROR\t2023-02-25 10:49:48 +0000\tmaster-replica-0\t1\tDeprecated in NumPy 1.20; for more details and guidance: https://numpy.org/devdocs/release/1.20.0-notes.html#deprecations\n",
      "ERROR\t2023-02-25 10:49:48 +0000\tmaster-replica-0\t1\t  max_n_alphas=1000, n_jobs=None, eps=np.finfo(np.float).eps,\n",
      "ERROR\t2023-02-25 10:49:48 +0000\tmaster-replica-0\t1\t/opt/conda/lib/python3.7/site-packages/sklearn/linear_model/least_angle.py:1344: DeprecationWarning: `np.float` is a deprecated alias for the builtin `float`. To silence this warning, use `float` by itself. Doing this will not modify any behavior and is safe. If you specifically wanted the numpy scalar type, use `np.float64` here.\n",
      "ERROR\t2023-02-25 10:49:48 +0000\tmaster-replica-0\t1\tDeprecated in NumPy 1.20; for more details and guidance: https://numpy.org/devdocs/release/1.20.0-notes.html#deprecations\n",
      "ERROR\t2023-02-25 10:49:48 +0000\tmaster-replica-0\t1\t  max_n_alphas=1000, n_jobs=None, eps=np.finfo(np.float).eps,\n",
      "ERROR\t2023-02-25 10:49:48 +0000\tmaster-replica-0\t1\t/opt/conda/lib/python3.7/site-packages/sklearn/linear_model/least_angle.py:1480: DeprecationWarning: `np.float` is a deprecated alias for the builtin `float`. To silence this warning, use `float` by itself. Doing this will not modify any behavior and is safe. If you specifically wanted the numpy scalar type, use `np.float64` here.\n",
      "ERROR\t2023-02-25 10:49:48 +0000\tmaster-replica-0\t1\tDeprecated in NumPy 1.20; for more details and guidance: https://numpy.org/devdocs/release/1.20.0-notes.html#deprecations\n",
      "ERROR\t2023-02-25 10:49:48 +0000\tmaster-replica-0\t1\t  eps=np.finfo(np.float).eps, copy_X=True, positive=False):\n",
      "ERROR\t2023-02-25 10:49:48 +0000\tmaster-replica-0\t1\t/opt/conda/lib/python3.7/site-packages/sklearn/linear_model/randomized_l1.py:152: DeprecationWarning: `np.float` is a deprecated alias for the builtin `float`. To silence this warning, use `float` by itself. Doing this will not modify any behavior and is safe. If you specifically wanted the numpy scalar type, use `np.float64` here.\n",
      "ERROR\t2023-02-25 10:49:48 +0000\tmaster-replica-0\t1\tDeprecated in NumPy 1.20; for more details and guidance: https://numpy.org/devdocs/release/1.20.0-notes.html#deprecations\n",
      "ERROR\t2023-02-25 10:49:48 +0000\tmaster-replica-0\t1\t  precompute=False, eps=np.finfo(np.float).eps,\n",
      "ERROR\t2023-02-25 10:49:48 +0000\tmaster-replica-0\t1\t/opt/conda/lib/python3.7/site-packages/sklearn/linear_model/randomized_l1.py:320: DeprecationWarning: `np.float` is a deprecated alias for the builtin `float`. To silence this warning, use `float` by itself. Doing this will not modify any behavior and is safe. If you specifically wanted the numpy scalar type, use `np.float64` here.\n",
      "ERROR\t2023-02-25 10:49:48 +0000\tmaster-replica-0\t1\tDeprecated in NumPy 1.20; for more details and guidance: https://numpy.org/devdocs/release/1.20.0-notes.html#deprecations\n",
      "ERROR\t2023-02-25 10:49:48 +0000\tmaster-replica-0\t1\t  eps=np.finfo(np.float).eps, random_state=None,\n",
      "ERROR\t2023-02-25 10:49:48 +0000\tmaster-replica-0\t1\t/opt/conda/lib/python3.7/site-packages/sklearn/linear_model/randomized_l1.py:580: DeprecationWarning: `np.float` is a deprecated alias for the builtin `float`. To silence this warning, use `float` by itself. Doing this will not modify any behavior and is safe. If you specifically wanted the numpy scalar type, use `np.float64` here.\n",
      "ERROR\t2023-02-25 10:49:48 +0000\tmaster-replica-0\t1\tDeprecated in NumPy 1.20; for more details and guidance: https://numpy.org/devdocs/release/1.20.0-notes.html#deprecations\n",
      "ERROR\t2023-02-25 10:49:48 +0000\tmaster-replica-0\t1\t  eps=4 * np.finfo(np.float).eps, n_jobs=None,\n",
      "ERROR\t2023-02-25 10:49:48 +0000\tmaster-replica-0\t1\t/opt/conda/lib/python3.7/site-packages/sklearn/utils/validation.py:209: DeprecationWarning: distutils Version classes are deprecated. Use packaging.version instead.\n",
      "ERROR\t2023-02-25 10:49:48 +0000\tmaster-replica-0\t1\t  if LooseVersion(joblib_version) < '0.12':\n",
      "ERROR\t2023-02-25 10:49:48 +0000\tmaster-replica-0\t1\t/opt/conda/lib/python3.7/site-packages/sklearn/preprocessing/_encoders.py:354: DeprecationWarning: `np.int` is a deprecated alias for the builtin `int`. To silence this warning, use `int` by itself. Doing this will not modify any behavior and is safe. When replacing `np.int`, you may wish to use e.g. `np.int64` or `np.int32` to specify the precision. If you wish to review your current use, check the release note link for additional information.\n",
      "ERROR\t2023-02-25 10:49:48 +0000\tmaster-replica-0\t1\tDeprecated in NumPy 1.20; for more details and guidance: https://numpy.org/devdocs/release/1.20.0-notes.html#deprecations\n",
      "ERROR\t2023-02-25 10:49:48 +0000\tmaster-replica-0\t1\t  X = check_array(X, dtype=np.int)\n",
      "ERROR\t2023-02-25 10:49:48 +0000\tmaster-replica-0\t1\t/opt/conda/lib/python3.7/site-packages/sklearn/preprocessing/_encoders.py:95: DeprecationWarning: `np.int` is a deprecated alias for the builtin `int`. To silence this warning, use `int` by itself. Doing this will not modify any behavior and is safe. When replacing `np.int`, you may wish to use e.g. `np.int64` or `np.int32` to specify the precision. If you wish to review your current use, check the release note link for additional information.\n",
      "ERROR\t2023-02-25 10:49:48 +0000\tmaster-replica-0\t1\tDeprecated in NumPy 1.20; for more details and guidance: https://numpy.org/devdocs/release/1.20.0-notes.html#deprecations\n",
      "ERROR\t2023-02-25 10:49:48 +0000\tmaster-replica-0\t1\t  X_int = np.zeros_like(X, dtype=np.int)\n",
      "ERROR\t2023-02-25 10:49:48 +0000\tmaster-replica-0\t1\t/opt/conda/lib/python3.7/site-packages/sklearn/preprocessing/_encoders.py:96: DeprecationWarning: `np.bool` is a deprecated alias for the builtin `bool`. To silence this warning, use `bool` by itself. Doing this will not modify any behavior and is safe. If you specifically wanted the numpy scalar type, use `np.bool_` here.\n",
      "ERROR\t2023-02-25 10:49:48 +0000\tmaster-replica-0\t1\tDeprecated in NumPy 1.20; for more details and guidance: https://numpy.org/devdocs/release/1.20.0-notes.html#deprecations\n",
      "ERROR\t2023-02-25 10:49:48 +0000\tmaster-replica-0\t1\t  X_mask = np.ones_like(X, dtype=np.bool)\n",
      "ERROR\t2023-02-25 10:49:48 +0000\tmaster-replica-0\t1\t/opt/conda/lib/python3.7/site-packages/sklearn/utils/fixes.py:357: DeprecationWarning: distutils Version classes are deprecated. Use packaging.version instead.\n",
      "ERROR\t2023-02-25 10:49:48 +0000\tmaster-replica-0\t1\t  if _joblib.__version__ >= LooseVersion('0.12'):\n",
      "ERROR\t2023-02-25 10:49:48 +0000\tmaster-replica-0\t1\t/opt/conda/lib/python3.7/site-packages/sklearn/preprocessing/_encoders.py:95: DeprecationWarning: `np.int` is a deprecated alias for the builtin `int`. To silence this warning, use `int` by itself. Doing this will not modify any behavior and is safe. When replacing `np.int`, you may wish to use e.g. `np.int64` or `np.int32` to specify the precision. If you wish to review your current use, check the release note link for additional information.\n",
      "ERROR\t2023-02-25 10:49:48 +0000\tmaster-replica-0\t1\tDeprecated in NumPy 1.20; for more details and guidance: https://numpy.org/devdocs/release/1.20.0-notes.html#deprecations\n",
      "ERROR\t2023-02-25 10:49:48 +0000\tmaster-replica-0\t1\t  X_int = np.zeros_like(X, dtype=np.int)\n",
      "ERROR\t2023-02-25 10:49:48 +0000\tmaster-replica-0\t1\t/opt/conda/lib/python3.7/site-packages/sklearn/preprocessing/_encoders.py:96: DeprecationWarning: `np.bool` is a deprecated alias for the builtin `bool`. To silence this warning, use `bool` by itself. Doing this will not modify any behavior and is safe. If you specifically wanted the numpy scalar type, use `np.bool_` here.\n",
      "ERROR\t2023-02-25 10:49:48 +0000\tmaster-replica-0\t1\tDeprecated in NumPy 1.20; for more details and guidance: https://numpy.org/devdocs/release/1.20.0-notes.html#deprecations\n",
      "ERROR\t2023-02-25 10:49:48 +0000\tmaster-replica-0\t1\t  X_mask = np.ones_like(X, dtype=np.bool)\n",
      "INFO\t2023-02-25 10:49:48 +0000\tmaster-replica-0\t1\tStarting training: alpha=0.000505, max_iter=500\n",
      "INFO\t2023-02-25 10:49:48 +0000\tmaster-replica-0\t1\tModel accuracy: 0.7045546970313136\n",
      "ERROR\t2023-02-25 10:49:58 +0000\tmaster-replica-0\t3\t/opt/conda/lib/python3.7/site-packages/sklearn/utils/validation.py:37: DeprecationWarning: distutils Version classes are deprecated. Use packaging.version instead.\n",
      "ERROR\t2023-02-25 10:49:58 +0000\tmaster-replica-0\t3\t  LARGE_SPARSE_SUPPORTED = LooseVersion(scipy_version) >= '0.14.0'\n",
      "ERROR\t2023-02-25 10:49:58 +0000\tmaster-replica-0\t3\t/opt/conda/lib/python3.7/site-packages/sklearn/linear_model/least_angle.py:35: DeprecationWarning: `np.float` is a deprecated alias for the builtin `float`. To silence this warning, use `float` by itself. Doing this will not modify any behavior and is safe. If you specifically wanted the numpy scalar type, use `np.float64` here.\n",
      "ERROR\t2023-02-25 10:49:58 +0000\tmaster-replica-0\t3\tDeprecated in NumPy 1.20; for more details and guidance: https://numpy.org/devdocs/release/1.20.0-notes.html#deprecations\n",
      "ERROR\t2023-02-25 10:49:58 +0000\tmaster-replica-0\t3\t  eps=np.finfo(np.float).eps,\n",
      "ERROR\t2023-02-25 10:49:58 +0000\tmaster-replica-0\t3\t/opt/conda/lib/python3.7/site-packages/sklearn/linear_model/least_angle.py:597: DeprecationWarning: `np.float` is a deprecated alias for the builtin `float`. To silence this warning, use `float` by itself. Doing this will not modify any behavior and is safe. If you specifically wanted the numpy scalar type, use `np.float64` here.\n",
      "ERROR\t2023-02-25 10:49:58 +0000\tmaster-replica-0\t3\tDeprecated in NumPy 1.20; for more details and guidance: https://numpy.org/devdocs/release/1.20.0-notes.html#deprecations\n",
      "ERROR\t2023-02-25 10:49:58 +0000\tmaster-replica-0\t3\t  eps=np.finfo(np.float).eps, copy_X=True, fit_path=True,\n",
      "ERROR\t2023-02-25 10:49:58 +0000\tmaster-replica-0\t3\t/opt/conda/lib/python3.7/site-packages/sklearn/linear_model/least_angle.py:836: DeprecationWarning: `np.float` is a deprecated alias for the builtin `float`. To silence this warning, use `float` by itself. Doing this will not modify any behavior and is safe. If you specifically wanted the numpy scalar type, use `np.float64` here.\n",
      "ERROR\t2023-02-25 10:49:58 +0000\tmaster-replica-0\t3\tDeprecated in NumPy 1.20; for more details and guidance: https://numpy.org/devdocs/release/1.20.0-notes.html#deprecations\n",
      "ERROR\t2023-02-25 10:49:58 +0000\tmaster-replica-0\t3\t  eps=np.finfo(np.float).eps, copy_X=True, fit_path=True,\n",
      "ERROR\t2023-02-25 10:49:58 +0000\tmaster-replica-0\t3\t/opt/conda/lib/python3.7/site-packages/sklearn/linear_model/least_angle.py:862: DeprecationWarning: `np.float` is a deprecated alias for the builtin `float`. To silence this warning, use `float` by itself. Doing this will not modify any behavior and is safe. If you specifically wanted the numpy scalar type, use `np.float64` here.\n",
      "ERROR\t2023-02-25 10:49:58 +0000\tmaster-replica-0\t3\tDeprecated in NumPy 1.20; for more details and guidance: https://numpy.org/devdocs/release/1.20.0-notes.html#deprecations\n",
      "ERROR\t2023-02-25 10:49:58 +0000\tmaster-replica-0\t3\t  eps=np.finfo(np.float).eps, positive=False):\n",
      "ERROR\t2023-02-25 10:49:58 +0000\tmaster-replica-0\t3\t/opt/conda/lib/python3.7/site-packages/sklearn/linear_model/least_angle.py:1097: DeprecationWarning: `np.float` is a deprecated alias for the builtin `float`. To silence this warning, use `float` by itself. Doing this will not modify any behavior and is safe. If you specifically wanted the numpy scalar type, use `np.float64` here.\n",
      "ERROR\t2023-02-25 10:49:58 +0000\tmaster-replica-0\t3\tDeprecated in NumPy 1.20; for more details and guidance: https://numpy.org/devdocs/release/1.20.0-notes.html#deprecations\n",
      "ERROR\t2023-02-25 10:49:58 +0000\tmaster-replica-0\t3\t  max_n_alphas=1000, n_jobs=None, eps=np.finfo(np.float).eps,\n",
      "ERROR\t2023-02-25 10:49:58 +0000\tmaster-replica-0\t3\t/opt/conda/lib/python3.7/site-packages/sklearn/linear_model/least_angle.py:1344: DeprecationWarning: `np.float` is a deprecated alias for the builtin `float`. To silence this warning, use `float` by itself. Doing this will not modify any behavior and is safe. If you specifically wanted the numpy scalar type, use `np.float64` here.\n",
      "ERROR\t2023-02-25 10:49:58 +0000\tmaster-replica-0\t3\tDeprecated in NumPy 1.20; for more details and guidance: https://numpy.org/devdocs/release/1.20.0-notes.html#deprecations\n",
      "ERROR\t2023-02-25 10:49:58 +0000\tmaster-replica-0\t3\t  max_n_alphas=1000, n_jobs=None, eps=np.finfo(np.float).eps,\n",
      "ERROR\t2023-02-25 10:49:58 +0000\tmaster-replica-0\t3\t/opt/conda/lib/python3.7/site-packages/sklearn/linear_model/least_angle.py:1480: DeprecationWarning: `np.float` is a deprecated alias for the builtin `float`. To silence this warning, use `float` by itself. Doing this will not modify any behavior and is safe. If you specifically wanted the numpy scalar type, use `np.float64` here.\n",
      "ERROR\t2023-02-25 10:49:58 +0000\tmaster-replica-0\t3\tDeprecated in NumPy 1.20; for more details and guidance: https://numpy.org/devdocs/release/1.20.0-notes.html#deprecations\n",
      "ERROR\t2023-02-25 10:49:58 +0000\tmaster-replica-0\t3\t  eps=np.finfo(np.float).eps, copy_X=True, positive=False):\n",
      "ERROR\t2023-02-25 10:49:58 +0000\tmaster-replica-0\t3\t/opt/conda/lib/python3.7/site-packages/sklearn/linear_model/randomized_l1.py:152: DeprecationWarning: `np.float` is a deprecated alias for the builtin `float`. To silence this warning, use `float` by itself. Doing this will not modify any behavior and is safe. If you specifically wanted the numpy scalar type, use `np.float64` here.\n",
      "ERROR\t2023-02-25 10:49:58 +0000\tmaster-replica-0\t3\tDeprecated in NumPy 1.20; for more details and guidance: https://numpy.org/devdocs/release/1.20.0-notes.html#deprecations\n",
      "ERROR\t2023-02-25 10:49:58 +0000\tmaster-replica-0\t3\t  precompute=False, eps=np.finfo(np.float).eps,\n",
      "ERROR\t2023-02-25 10:49:58 +0000\tmaster-replica-0\t3\t/opt/conda/lib/python3.7/site-packages/sklearn/linear_model/randomized_l1.py:320: DeprecationWarning: `np.float` is a deprecated alias for the builtin `float`. To silence this warning, use `float` by itself. Doing this will not modify any behavior and is safe. If you specifically wanted the numpy scalar type, use `np.float64` here.\n",
      "ERROR\t2023-02-25 10:49:58 +0000\tmaster-replica-0\t3\tDeprecated in NumPy 1.20; for more details and guidance: https://numpy.org/devdocs/release/1.20.0-notes.html#deprecations\n",
      "ERROR\t2023-02-25 10:49:58 +0000\tmaster-replica-0\t3\t  eps=np.finfo(np.float).eps, random_state=None,\n",
      "ERROR\t2023-02-25 10:49:58 +0000\tmaster-replica-0\t3\t/opt/conda/lib/python3.7/site-packages/sklearn/linear_model/randomized_l1.py:580: DeprecationWarning: `np.float` is a deprecated alias for the builtin `float`. To silence this warning, use `float` by itself. Doing this will not modify any behavior and is safe. If you specifically wanted the numpy scalar type, use `np.float64` here.\n",
      "ERROR\t2023-02-25 10:49:58 +0000\tmaster-replica-0\t3\tDeprecated in NumPy 1.20; for more details and guidance: https://numpy.org/devdocs/release/1.20.0-notes.html#deprecations\n",
      "ERROR\t2023-02-25 10:49:58 +0000\tmaster-replica-0\t3\t  eps=4 * np.finfo(np.float).eps, n_jobs=None,\n",
      "ERROR\t2023-02-25 10:49:58 +0000\tmaster-replica-0\t3\t/opt/conda/lib/python3.7/site-packages/sklearn/utils/validation.py:209: DeprecationWarning: distutils Version classes are deprecated. Use packaging.version instead.\n",
      "ERROR\t2023-02-25 10:49:58 +0000\tmaster-replica-0\t3\t  if LooseVersion(joblib_version) < '0.12':\n",
      "ERROR\t2023-02-25 10:49:58 +0000\tmaster-replica-0\t3\t/opt/conda/lib/python3.7/site-packages/sklearn/preprocessing/_encoders.py:354: DeprecationWarning: `np.int` is a deprecated alias for the builtin `int`. To silence this warning, use `int` by itself. Doing this will not modify any behavior and is safe. When replacing `np.int`, you may wish to use e.g. `np.int64` or `np.int32` to specify the precision. If you wish to review your current use, check the release note link for additional information.\n",
      "ERROR\t2023-02-25 10:49:58 +0000\tmaster-replica-0\t3\tDeprecated in NumPy 1.20; for more details and guidance: https://numpy.org/devdocs/release/1.20.0-notes.html#deprecations\n",
      "ERROR\t2023-02-25 10:49:58 +0000\tmaster-replica-0\t3\t  X = check_array(X, dtype=np.int)\n",
      "ERROR\t2023-02-25 10:49:58 +0000\tmaster-replica-0\t3\t/opt/conda/lib/python3.7/site-packages/sklearn/preprocessing/_encoders.py:95: DeprecationWarning: `np.int` is a deprecated alias for the builtin `int`. To silence this warning, use `int` by itself. Doing this will not modify any behavior and is safe. When replacing `np.int`, you may wish to use e.g. `np.int64` or `np.int32` to specify the precision. If you wish to review your current use, check the release note link for additional information.\n",
      "ERROR\t2023-02-25 10:49:58 +0000\tmaster-replica-0\t3\tDeprecated in NumPy 1.20; for more details and guidance: https://numpy.org/devdocs/release/1.20.0-notes.html#deprecations\n",
      "ERROR\t2023-02-25 10:49:58 +0000\tmaster-replica-0\t3\t  X_int = np.zeros_like(X, dtype=np.int)\n",
      "ERROR\t2023-02-25 10:49:58 +0000\tmaster-replica-0\t3\t/opt/conda/lib/python3.7/site-packages/sklearn/preprocessing/_encoders.py:96: DeprecationWarning: `np.bool` is a deprecated alias for the builtin `bool`. To silence this warning, use `bool` by itself. Doing this will not modify any behavior and is safe. If you specifically wanted the numpy scalar type, use `np.bool_` here.\n",
      "ERROR\t2023-02-25 10:49:58 +0000\tmaster-replica-0\t3\tDeprecated in NumPy 1.20; for more details and guidance: https://numpy.org/devdocs/release/1.20.0-notes.html#deprecations\n",
      "ERROR\t2023-02-25 10:49:58 +0000\tmaster-replica-0\t3\t  X_mask = np.ones_like(X, dtype=np.bool)\n",
      "ERROR\t2023-02-25 10:49:58 +0000\tmaster-replica-0\t3\t/opt/conda/lib/python3.7/site-packages/sklearn/utils/fixes.py:357: DeprecationWarning: distutils Version classes are deprecated. Use packaging.version instead.\n",
      "ERROR\t2023-02-25 10:49:58 +0000\tmaster-replica-0\t3\t  if _joblib.__version__ >= LooseVersion('0.12'):\n",
      "ERROR\t2023-02-25 10:49:58 +0000\tmaster-replica-0\t3\t/opt/conda/lib/python3.7/site-packages/sklearn/preprocessing/_encoders.py:95: DeprecationWarning: `np.int` is a deprecated alias for the builtin `int`. To silence this warning, use `int` by itself. Doing this will not modify any behavior and is safe. When replacing `np.int`, you may wish to use e.g. `np.int64` or `np.int32` to specify the precision. If you wish to review your current use, check the release note link for additional information.\n",
      "ERROR\t2023-02-25 10:49:58 +0000\tmaster-replica-0\t3\tDeprecated in NumPy 1.20; for more details and guidance: https://numpy.org/devdocs/release/1.20.0-notes.html#deprecations\n",
      "ERROR\t2023-02-25 10:49:58 +0000\tmaster-replica-0\t3\t  X_int = np.zeros_like(X, dtype=np.int)\n",
      "ERROR\t2023-02-25 10:49:58 +0000\tmaster-replica-0\t3\t/opt/conda/lib/python3.7/site-packages/sklearn/preprocessing/_encoders.py:96: DeprecationWarning: `np.bool` is a deprecated alias for the builtin `bool`. To silence this warning, use `bool` by itself. Doing this will not modify any behavior and is safe. If you specifically wanted the numpy scalar type, use `np.bool_` here.\n",
      "ERROR\t2023-02-25 10:49:58 +0000\tmaster-replica-0\t3\tDeprecated in NumPy 1.20; for more details and guidance: https://numpy.org/devdocs/release/1.20.0-notes.html#deprecations\n",
      "ERROR\t2023-02-25 10:49:58 +0000\tmaster-replica-0\t3\t  X_mask = np.ones_like(X, dtype=np.bool)\n",
      "INFO\t2023-02-25 10:49:58 +0000\tmaster-replica-0\t3\tStarting training: alpha=0.0004966246764017106, max_iter=500\n",
      "INFO\t2023-02-25 10:49:58 +0000\tmaster-replica-0\t3\tModel accuracy: 0.6995729971533143\n",
      "INFO\t2023-02-25 10:55:35 +0000\tservice\t4\tJob completed successfully.\n",
      "INFO\t2023-02-25 10:55:35 +0000\tservice\t3\tJob completed successfully.\n",
      "INFO\t2023-02-25 10:55:36 +0000\tservice\t2\tJob completed successfully.\n",
      "INFO\t2023-02-25 10:55:36 +0000\tservice\t1\tJob completed successfully.\n"
     ]
    }
   ],
   "source": [
    "!gcloud ai-platform jobs stream-logs $JOB_NAME"
   ]
  },
  {
   "cell_type": "markdown",
   "metadata": {},
   "source": [
    "**NOTE: The above AI platform job stream logs will take approximately 5~10 minutes to display.**"
   ]
  },
  {
   "cell_type": "markdown",
   "metadata": {},
   "source": [
    "### Retrieve HP-tuning results."
   ]
  },
  {
   "cell_type": "markdown",
   "metadata": {},
   "source": [
    "After the job completes you can review the results using Google Cloud Console or programatically by calling the AI Platform Training REST end-point."
   ]
  },
  {
   "cell_type": "code",
   "execution_count": 41,
   "metadata": {},
   "outputs": [
    {
     "data": {
      "text/plain": [
       "{'jobId': 'JOB_20230225_104653',\n",
       " 'trainingInput': {'args': ['--training_dataset_path=gs://qwiklabs-gcp-03-99625653b8b8-kubeflowpipelines-default/data/training/dataset.csv',\n",
       "   '--validation_dataset_path=gs://qwiklabs-gcp-03-99625653b8b8-kubeflowpipelines-default/data/validation/dataset.csv',\n",
       "   '--hptune'],\n",
       "  'hyperparameters': {'goal': 'MAXIMIZE',\n",
       "   'params': [{'parameterName': 'max_iter',\n",
       "     'type': 'DISCRETE',\n",
       "     'discreteValues': [200, 500]},\n",
       "    {'parameterName': 'alpha',\n",
       "     'minValue': 1e-05,\n",
       "     'maxValue': 0.001,\n",
       "     'type': 'DOUBLE',\n",
       "     'scaleType': 'UNIT_LINEAR_SCALE'}],\n",
       "   'maxTrials': 4,\n",
       "   'maxParallelTrials': 4,\n",
       "   'hyperparameterMetricTag': 'accuracy',\n",
       "   'enableTrialEarlyStopping': True},\n",
       "  'region': 'us-central1',\n",
       "  'jobDir': 'gs://qwiklabs-gcp-03-99625653b8b8-kubeflowpipelines-default/jobs/JOB_20230225_104653',\n",
       "  'masterConfig': {'imageUri': 'gcr.io/qwiklabs-gcp-03-99625653b8b8/trainer_image:latest'}},\n",
       " 'createTime': '2023-02-25T10:47:08Z',\n",
       " 'startTime': '2023-02-25T10:47:13Z',\n",
       " 'endTime': '2023-02-25T10:56:32Z',\n",
       " 'state': 'SUCCEEDED',\n",
       " 'trainingOutput': {'completedTrialCount': '4',\n",
       "  'trials': [{'trialId': '1',\n",
       "    'hyperparameters': {'alpha': '0.000505', 'max_iter': '500'},\n",
       "    'finalMetric': {'trainingStep': '1', 'objectiveValue': 0.7045546970313136},\n",
       "    'startTime': '2023-02-25T10:47:18.910168429Z',\n",
       "    'endTime': '2023-02-25T10:55:36Z',\n",
       "    'state': 'SUCCEEDED'},\n",
       "   {'trialId': '3',\n",
       "    'hyperparameters': {'alpha': '0.00049662467640171056', 'max_iter': '500'},\n",
       "    'finalMetric': {'trainingStep': '1', 'objectiveValue': 0.6995729971533143},\n",
       "    'startTime': '2023-02-25T10:47:18.910383211Z',\n",
       "    'endTime': '2023-02-25T10:55:35Z',\n",
       "    'state': 'SUCCEEDED'},\n",
       "   {'trialId': '4',\n",
       "    'hyperparameters': {'alpha': '0.00023978066263130639', 'max_iter': '200'},\n",
       "    'finalMetric': {'trainingStep': '1', 'objectiveValue': 0.6979463196421309},\n",
       "    'startTime': '2023-02-25T10:47:18.910440497Z',\n",
       "    'endTime': '2023-02-25T10:55:35Z',\n",
       "    'state': 'SUCCEEDED'},\n",
       "   {'trialId': '2',\n",
       "    'hyperparameters': {'alpha': '0.00028751901467049374', 'max_iter': '200'},\n",
       "    'finalMetric': {'trainingStep': '1', 'objectiveValue': 0.6973363155754372},\n",
       "    'startTime': '2023-02-25T10:47:18.910311896Z',\n",
       "    'endTime': '2023-02-25T10:55:36Z',\n",
       "    'state': 'SUCCEEDED'}],\n",
       "  'consumedMLUnits': 0.26,\n",
       "  'isHyperparameterTuningJob': True,\n",
       "  'hyperparameterMetricTag': 'accuracy'},\n",
       " 'etag': '5yvavL9WB54=',\n",
       " 'jobPosition': '0'}"
      ]
     },
     "execution_count": 41,
     "metadata": {},
     "output_type": "execute_result"
    }
   ],
   "source": [
    "ml = discovery.build('ml', 'v1')\n",
    "\n",
    "job_id = 'projects/{}/jobs/{}'.format(PROJECT_ID, JOB_NAME)\n",
    "request = ml.projects().jobs().get(name=job_id)\n",
    "\n",
    "try:\n",
    "    response = request.execute()\n",
    "except errors.HttpError as err:\n",
    "    print(err)\n",
    "except:\n",
    "    print(\"Unexpected error\")\n",
    "    \n",
    "response"
   ]
  },
  {
   "cell_type": "markdown",
   "metadata": {},
   "source": [
    "The returned run results are sorted by a value of the optimization metric. The best run is the first item on the returned list."
   ]
  },
  {
   "cell_type": "code",
   "execution_count": 45,
   "metadata": {},
   "outputs": [
    {
     "data": {
      "text/plain": [
       "{'trialId': '1',\n",
       " 'hyperparameters': {'alpha': '0.000505', 'max_iter': '500'},\n",
       " 'finalMetric': {'trainingStep': '1', 'objectiveValue': 0.7045546970313136},\n",
       " 'startTime': '2023-02-25T10:47:18.910168429Z',\n",
       " 'endTime': '2023-02-25T10:55:36Z',\n",
       " 'state': 'SUCCEEDED'}"
      ]
     },
     "execution_count": 45,
     "metadata": {},
     "output_type": "execute_result"
    }
   ],
   "source": [
    "response['trainingOutput']['trials'][0]"
   ]
  },
  {
   "cell_type": "markdown",
   "metadata": {},
   "source": [
    "## Retrain the model with the best hyperparameters\n",
    "\n",
    "You can now retrain the model using the best hyperparameters and using combined training and validation splits as a training dataset."
   ]
  },
  {
   "cell_type": "markdown",
   "metadata": {},
   "source": [
    "### Configure and run the training job"
   ]
  },
  {
   "cell_type": "code",
   "execution_count": 46,
   "metadata": {},
   "outputs": [],
   "source": [
    "alpha = response['trainingOutput']['trials'][0]['hyperparameters']['alpha']\n",
    "max_iter = response['trainingOutput']['trials'][0]['hyperparameters']['max_iter']"
   ]
  },
  {
   "cell_type": "code",
   "execution_count": 44,
   "metadata": {},
   "outputs": [
    {
     "name": "stdout",
     "output_type": "stream",
     "text": [
      "Job [JOB_20230225_105752] submitted successfully.\n",
      "Your job is still active. You may view the status of your job with the command\n",
      "\n",
      "  $ gcloud ai-platform jobs describe JOB_20230225_105752\n",
      "\n",
      "or continue streaming the logs with the command\n",
      "\n",
      "  $ gcloud ai-platform jobs stream-logs JOB_20230225_105752\n",
      "jobId: JOB_20230225_105752\n",
      "state: QUEUED\n"
     ]
    }
   ],
   "source": [
    "JOB_NAME = \"JOB_{}\".format(time.strftime(\"%Y%m%d_%H%M%S\"))\n",
    "JOB_DIR = \"{}/{}\".format(JOB_DIR_ROOT, JOB_NAME)\n",
    "SCALE_TIER = \"BASIC\"\n",
    "\n",
    "!gcloud ai-platform jobs submit training $JOB_NAME \\\n",
    "--region=$REGION \\\n",
    "--job-dir=$JOB_DIR \\\n",
    "--master-image-uri=$IMAGE_URI \\\n",
    "--scale-tier=$SCALE_TIER \\\n",
    "-- \\\n",
    "--training_dataset_path=$TRAINING_FILE_PATH \\\n",
    "--validation_dataset_path=$VALIDATION_FILE_PATH \\\n",
    "--alpha=$alpha \\\n",
    "--max_iter=$max_iter \\\n",
    "--nohptune"
   ]
  },
  {
   "cell_type": "code",
   "execution_count": 47,
   "metadata": {},
   "outputs": [
    {
     "name": "stdout",
     "output_type": "stream",
     "text": [
      "INFO\t2023-02-25 10:57:54 +0000\tservice\t\tValidating job requirements...\n",
      "INFO\t2023-02-25 10:57:54 +0000\tservice\t\tJob creation request has been successfully validated.\n",
      "INFO\t2023-02-25 10:57:54 +0000\tservice\t\tWaiting for job to be provisioned.\n",
      "INFO\t2023-02-25 10:57:55 +0000\tservice\t\tJob JOB_20230225_105752 is queued.\n",
      "INFO\t2023-02-25 10:57:56 +0000\tservice\t\tWaiting for training program to start.\n",
      "NOTICE\t2023-02-25 10:58:31 +0000\tmaster-replica-0.gcsfuse\t\tOpening GCS connection...\n",
      "NOTICE\t2023-02-25 10:58:31 +0000\tmaster-replica-0.gcsfuse\t\tMounting file system \"gcsfuse\"...\n",
      "NOTICE\t2023-02-25 10:58:31 +0000\tmaster-replica-0.gcsfuse\t\tFile system has been successfully mounted.\n",
      "INFO\t2023-02-25 11:00:23 +0000\tmaster-replica-0\t\tCopying file://model.pkl [Content-Type=application/octet-stream]...\n",
      "INFO\t2023-02-25 11:00:23 +0000\tmaster-replica-0\t\t/ [0 files][    0.0 B/  6.2 KiB]                                                \n",
      "INFO\t2023-02-25 11:00:23 +0000\tmaster-replica-0\t\t/ [1 files][  6.2 KiB/  6.2 KiB]                                                \n",
      "INFO\t2023-02-25 11:00:23 +0000\tmaster-replica-0\t\tOperation completed over 1 objects/6.2 KiB.                                      \n",
      "INFO\t2023-02-25 11:00:23 +0000\tmaster-replica-0\t\tStarting training: alpha=0.000505, max_iter=500\n",
      "INFO\t2023-02-25 11:00:23 +0000\tmaster-replica-0\t\tSaved model in: gs://qwiklabs-gcp-03-99625653b8b8-kubeflowpipelines-default/jobs/JOB_20230225_105752/model.pkl\n",
      "ERROR\t2023-02-25 11:00:23 +0000\tmaster-replica-0\t\t/opt/conda/lib/python3.7/site-packages/sklearn/utils/validation.py:37: DeprecationWarning: distutils Version classes are deprecated. Use packaging.version instead.\n",
      "ERROR\t2023-02-25 11:00:23 +0000\tmaster-replica-0\t\t  LARGE_SPARSE_SUPPORTED = LooseVersion(scipy_version) >= '0.14.0'\n",
      "ERROR\t2023-02-25 11:00:23 +0000\tmaster-replica-0\t\t/opt/conda/lib/python3.7/site-packages/sklearn/linear_model/least_angle.py:35: DeprecationWarning: `np.float` is a deprecated alias for the builtin `float`. To silence this warning, use `float` by itself. Doing this will not modify any behavior and is safe. If you specifically wanted the numpy scalar type, use `np.float64` here.\n",
      "ERROR\t2023-02-25 11:00:23 +0000\tmaster-replica-0\t\tDeprecated in NumPy 1.20; for more details and guidance: https://numpy.org/devdocs/release/1.20.0-notes.html#deprecations\n",
      "ERROR\t2023-02-25 11:00:23 +0000\tmaster-replica-0\t\t  eps=np.finfo(np.float).eps,\n",
      "ERROR\t2023-02-25 11:00:23 +0000\tmaster-replica-0\t\t/opt/conda/lib/python3.7/site-packages/sklearn/linear_model/least_angle.py:597: DeprecationWarning: `np.float` is a deprecated alias for the builtin `float`. To silence this warning, use `float` by itself. Doing this will not modify any behavior and is safe. If you specifically wanted the numpy scalar type, use `np.float64` here.\n",
      "ERROR\t2023-02-25 11:00:23 +0000\tmaster-replica-0\t\tDeprecated in NumPy 1.20; for more details and guidance: https://numpy.org/devdocs/release/1.20.0-notes.html#deprecations\n",
      "ERROR\t2023-02-25 11:00:23 +0000\tmaster-replica-0\t\t  eps=np.finfo(np.float).eps, copy_X=True, fit_path=True,\n",
      "ERROR\t2023-02-25 11:00:23 +0000\tmaster-replica-0\t\t/opt/conda/lib/python3.7/site-packages/sklearn/linear_model/least_angle.py:836: DeprecationWarning: `np.float` is a deprecated alias for the builtin `float`. To silence this warning, use `float` by itself. Doing this will not modify any behavior and is safe. If you specifically wanted the numpy scalar type, use `np.float64` here.\n",
      "ERROR\t2023-02-25 11:00:23 +0000\tmaster-replica-0\t\tDeprecated in NumPy 1.20; for more details and guidance: https://numpy.org/devdocs/release/1.20.0-notes.html#deprecations\n",
      "ERROR\t2023-02-25 11:00:23 +0000\tmaster-replica-0\t\t  eps=np.finfo(np.float).eps, copy_X=True, fit_path=True,\n",
      "ERROR\t2023-02-25 11:00:23 +0000\tmaster-replica-0\t\t/opt/conda/lib/python3.7/site-packages/sklearn/linear_model/least_angle.py:862: DeprecationWarning: `np.float` is a deprecated alias for the builtin `float`. To silence this warning, use `float` by itself. Doing this will not modify any behavior and is safe. If you specifically wanted the numpy scalar type, use `np.float64` here.\n",
      "ERROR\t2023-02-25 11:00:23 +0000\tmaster-replica-0\t\tDeprecated in NumPy 1.20; for more details and guidance: https://numpy.org/devdocs/release/1.20.0-notes.html#deprecations\n",
      "ERROR\t2023-02-25 11:00:23 +0000\tmaster-replica-0\t\t  eps=np.finfo(np.float).eps, positive=False):\n",
      "ERROR\t2023-02-25 11:00:23 +0000\tmaster-replica-0\t\t/opt/conda/lib/python3.7/site-packages/sklearn/linear_model/least_angle.py:1097: DeprecationWarning: `np.float` is a deprecated alias for the builtin `float`. To silence this warning, use `float` by itself. Doing this will not modify any behavior and is safe. If you specifically wanted the numpy scalar type, use `np.float64` here.\n",
      "ERROR\t2023-02-25 11:00:23 +0000\tmaster-replica-0\t\tDeprecated in NumPy 1.20; for more details and guidance: https://numpy.org/devdocs/release/1.20.0-notes.html#deprecations\n",
      "ERROR\t2023-02-25 11:00:23 +0000\tmaster-replica-0\t\t  max_n_alphas=1000, n_jobs=None, eps=np.finfo(np.float).eps,\n",
      "ERROR\t2023-02-25 11:00:23 +0000\tmaster-replica-0\t\t/opt/conda/lib/python3.7/site-packages/sklearn/linear_model/least_angle.py:1344: DeprecationWarning: `np.float` is a deprecated alias for the builtin `float`. To silence this warning, use `float` by itself. Doing this will not modify any behavior and is safe. If you specifically wanted the numpy scalar type, use `np.float64` here.\n",
      "ERROR\t2023-02-25 11:00:23 +0000\tmaster-replica-0\t\tDeprecated in NumPy 1.20; for more details and guidance: https://numpy.org/devdocs/release/1.20.0-notes.html#deprecations\n",
      "ERROR\t2023-02-25 11:00:23 +0000\tmaster-replica-0\t\t  max_n_alphas=1000, n_jobs=None, eps=np.finfo(np.float).eps,\n",
      "ERROR\t2023-02-25 11:00:23 +0000\tmaster-replica-0\t\t/opt/conda/lib/python3.7/site-packages/sklearn/linear_model/least_angle.py:1480: DeprecationWarning: `np.float` is a deprecated alias for the builtin `float`. To silence this warning, use `float` by itself. Doing this will not modify any behavior and is safe. If you specifically wanted the numpy scalar type, use `np.float64` here.\n",
      "ERROR\t2023-02-25 11:00:23 +0000\tmaster-replica-0\t\tDeprecated in NumPy 1.20; for more details and guidance: https://numpy.org/devdocs/release/1.20.0-notes.html#deprecations\n",
      "ERROR\t2023-02-25 11:00:23 +0000\tmaster-replica-0\t\t  eps=np.finfo(np.float).eps, copy_X=True, positive=False):\n",
      "ERROR\t2023-02-25 11:00:23 +0000\tmaster-replica-0\t\t/opt/conda/lib/python3.7/site-packages/sklearn/linear_model/randomized_l1.py:152: DeprecationWarning: `np.float` is a deprecated alias for the builtin `float`. To silence this warning, use `float` by itself. Doing this will not modify any behavior and is safe. If you specifically wanted the numpy scalar type, use `np.float64` here.\n",
      "ERROR\t2023-02-25 11:00:23 +0000\tmaster-replica-0\t\tDeprecated in NumPy 1.20; for more details and guidance: https://numpy.org/devdocs/release/1.20.0-notes.html#deprecations\n",
      "ERROR\t2023-02-25 11:00:23 +0000\tmaster-replica-0\t\t  precompute=False, eps=np.finfo(np.float).eps,\n",
      "ERROR\t2023-02-25 11:00:23 +0000\tmaster-replica-0\t\t/opt/conda/lib/python3.7/site-packages/sklearn/linear_model/randomized_l1.py:320: DeprecationWarning: `np.float` is a deprecated alias for the builtin `float`. To silence this warning, use `float` by itself. Doing this will not modify any behavior and is safe. If you specifically wanted the numpy scalar type, use `np.float64` here.\n",
      "ERROR\t2023-02-25 11:00:23 +0000\tmaster-replica-0\t\tDeprecated in NumPy 1.20; for more details and guidance: https://numpy.org/devdocs/release/1.20.0-notes.html#deprecations\n",
      "ERROR\t2023-02-25 11:00:23 +0000\tmaster-replica-0\t\t  eps=np.finfo(np.float).eps, random_state=None,\n",
      "ERROR\t2023-02-25 11:00:23 +0000\tmaster-replica-0\t\t/opt/conda/lib/python3.7/site-packages/sklearn/linear_model/randomized_l1.py:580: DeprecationWarning: `np.float` is a deprecated alias for the builtin `float`. To silence this warning, use `float` by itself. Doing this will not modify any behavior and is safe. If you specifically wanted the numpy scalar type, use `np.float64` here.\n",
      "ERROR\t2023-02-25 11:00:23 +0000\tmaster-replica-0\t\tDeprecated in NumPy 1.20; for more details and guidance: https://numpy.org/devdocs/release/1.20.0-notes.html#deprecations\n",
      "ERROR\t2023-02-25 11:00:23 +0000\tmaster-replica-0\t\t  eps=4 * np.finfo(np.float).eps, n_jobs=None,\n",
      "ERROR\t2023-02-25 11:00:23 +0000\tmaster-replica-0\t\t/opt/conda/lib/python3.7/site-packages/sklearn/utils/validation.py:209: DeprecationWarning: distutils Version classes are deprecated. Use packaging.version instead.\n",
      "ERROR\t2023-02-25 11:00:23 +0000\tmaster-replica-0\t\t  if LooseVersion(joblib_version) < '0.12':\n",
      "ERROR\t2023-02-25 11:00:23 +0000\tmaster-replica-0\t\t/opt/conda/lib/python3.7/site-packages/sklearn/preprocessing/_encoders.py:354: DeprecationWarning: `np.int` is a deprecated alias for the builtin `int`. To silence this warning, use `int` by itself. Doing this will not modify any behavior and is safe. When replacing `np.int`, you may wish to use e.g. `np.int64` or `np.int32` to specify the precision. If you wish to review your current use, check the release note link for additional information.\n",
      "ERROR\t2023-02-25 11:00:23 +0000\tmaster-replica-0\t\tDeprecated in NumPy 1.20; for more details and guidance: https://numpy.org/devdocs/release/1.20.0-notes.html#deprecations\n",
      "ERROR\t2023-02-25 11:00:23 +0000\tmaster-replica-0\t\t  X = check_array(X, dtype=np.int)\n",
      "ERROR\t2023-02-25 11:00:23 +0000\tmaster-replica-0\t\t/opt/conda/lib/python3.7/site-packages/sklearn/preprocessing/_encoders.py:95: DeprecationWarning: `np.int` is a deprecated alias for the builtin `int`. To silence this warning, use `int` by itself. Doing this will not modify any behavior and is safe. When replacing `np.int`, you may wish to use e.g. `np.int64` or `np.int32` to specify the precision. If you wish to review your current use, check the release note link for additional information.\n",
      "ERROR\t2023-02-25 11:00:23 +0000\tmaster-replica-0\t\tDeprecated in NumPy 1.20; for more details and guidance: https://numpy.org/devdocs/release/1.20.0-notes.html#deprecations\n",
      "ERROR\t2023-02-25 11:00:23 +0000\tmaster-replica-0\t\t  X_int = np.zeros_like(X, dtype=np.int)\n",
      "ERROR\t2023-02-25 11:00:23 +0000\tmaster-replica-0\t\t/opt/conda/lib/python3.7/site-packages/sklearn/preprocessing/_encoders.py:96: DeprecationWarning: `np.bool` is a deprecated alias for the builtin `bool`. To silence this warning, use `bool` by itself. Doing this will not modify any behavior and is safe. If you specifically wanted the numpy scalar type, use `np.bool_` here.\n",
      "ERROR\t2023-02-25 11:00:23 +0000\tmaster-replica-0\t\tDeprecated in NumPy 1.20; for more details and guidance: https://numpy.org/devdocs/release/1.20.0-notes.html#deprecations\n",
      "ERROR\t2023-02-25 11:00:23 +0000\tmaster-replica-0\t\t  X_mask = np.ones_like(X, dtype=np.bool)\n",
      "ERROR\t2023-02-25 11:00:23 +0000\tmaster-replica-0\t\t/opt/conda/lib/python3.7/site-packages/sklearn/utils/fixes.py:357: DeprecationWarning: distutils Version classes are deprecated. Use packaging.version instead.\n",
      "ERROR\t2023-02-25 11:00:23 +0000\tmaster-replica-0\t\t  if _joblib.__version__ >= LooseVersion('0.12'):\n"
     ]
    }
   ],
   "source": [
    "!gcloud ai-platform jobs stream-logs $JOB_NAME"
   ]
  },
  {
   "cell_type": "markdown",
   "metadata": {},
   "source": [
    "**NOTE: The above AI platform job stream logs will take approximately 5~10 minutes to display.**"
   ]
  },
  {
   "cell_type": "markdown",
   "metadata": {},
   "source": [
    "### Examine the training output\n",
    "\n",
    "The training script saved the trained model as the 'model.pkl' in the `JOB_DIR` folder on Cloud Storage."
   ]
  },
  {
   "cell_type": "code",
   "execution_count": 48,
   "metadata": {},
   "outputs": [
    {
     "name": "stdout",
     "output_type": "stream",
     "text": [
      "gs://qwiklabs-gcp-03-99625653b8b8-kubeflowpipelines-default/jobs/JOB_20230225_105752/model.pkl\n"
     ]
    }
   ],
   "source": [
    "!gsutil ls $JOB_DIR"
   ]
  },
  {
   "cell_type": "markdown",
   "metadata": {},
   "source": [
    "## Deploy the model to AI Platform Prediction"
   ]
  },
  {
   "cell_type": "markdown",
   "metadata": {},
   "source": [
    "### Create a model resource\n",
    "\n",
    "Use the gcloud command to create a model with model_name in $REGION tagged with labels."
   ]
  },
  {
   "cell_type": "code",
   "execution_count": 49,
   "metadata": {},
   "outputs": [
    {
     "name": "stdout",
     "output_type": "stream",
     "text": [
      "Using endpoint [https://ml.googleapis.com/]\n",
      "Created ai platform model [projects/qwiklabs-gcp-03-99625653b8b8/models/forest_cover_classifier].\n"
     ]
    }
   ],
   "source": [
    "model_name = 'forest_cover_classifier'\n",
    "labels = \"task=classifier,domain=forestry\"\n",
    "\n",
    "!gcloud ai-platform models create  $model_name \\\n",
    " --regions=$REGION \\\n",
    " --labels=$labels"
   ]
  },
  {
   "cell_type": "markdown",
   "metadata": {},
   "source": [
    "### Create a model version\n",
    "\n",
    "Use the gcloud command to create a version of the model.\n",
    "\n"
   ]
  },
  {
   "cell_type": "code",
   "execution_count": null,
   "metadata": {},
   "outputs": [
    {
     "name": "stdout",
     "output_type": "stream",
     "text": [
      "Using endpoint [https://ml.googleapis.com/]\n",
      "Creating version (this might take a few minutes)......⠹                        "
     ]
    }
   ],
   "source": [
    "model_version = 'v01'\n",
    "\n",
    "!gcloud ai-platform versions create {model_version} \\\n",
    " --model={model_name} \\\n",
    " --origin=$JOB_DIR \\\n",
    " --runtime-version=1.15 \\\n",
    " --framework=scikit-learn \\\n",
    " --python-version=3.7\\\n",
    " --region global"
   ]
  },
  {
   "cell_type": "markdown",
   "metadata": {},
   "source": [
    "### Serve predictions\n",
    "#### Prepare the input file with JSON formated instances."
   ]
  },
  {
   "cell_type": "code",
   "execution_count": null,
   "metadata": {},
   "outputs": [],
   "source": [
    "input_file = 'serving_instances.json'\n",
    "\n",
    "with open(input_file, 'w') as f:\n",
    "    for index, row in X_validation.head().iterrows():\n",
    "        f.write(json.dumps(list(row.values)))\n",
    "        f.write('\\n')"
   ]
  },
  {
   "cell_type": "code",
   "execution_count": null,
   "metadata": {},
   "outputs": [],
   "source": [
    "!cat $input_file"
   ]
  },
  {
   "cell_type": "markdown",
   "metadata": {},
   "source": [
    "#### Invoke the model\n",
    "\n",
    "Use the gcloud command send the data in $input_file to your model deployed as a REST API."
   ]
  },
  {
   "cell_type": "code",
   "execution_count": null,
   "metadata": {},
   "outputs": [],
   "source": [
    "!gcloud ai-platform predict \\\n",
    "--model $model_name \\\n",
    "--version $model_version \\\n",
    "--json-instances $input_file\\\n",
    "--region global"
   ]
  },
  {
   "cell_type": "markdown",
   "metadata": {},
   "source": [
    "<font size=-1>Licensed under the Apache License, Version 2.0 (the \\\"License\\\");\n",
    "you may not use this file except in compliance with the License.\n",
    "You may obtain a copy of the License at [https://www.apache.org/licenses/LICENSE-2.0](https://www.apache.org/licenses/LICENSE-2.0)\n",
    "\n",
    "Unless required by applicable law or agreed to in writing, software distributed under the License is distributed on an \\\"AS IS\\\" BASIS, WITHOUT WARRANTIES OR CONDITIONS OF ANY KIND, either express or implied.  See the License for the specific language governing permissions and limitations under the License.</font>"
   ]
  }
 ],
 "metadata": {
  "kernelspec": {
   "display_name": "Python 3 (ipykernel)",
   "language": "python",
   "name": "python3"
  },
  "language_info": {
   "codemirror_mode": {
    "name": "ipython",
    "version": 3
   },
   "file_extension": ".py",
   "mimetype": "text/x-python",
   "name": "python",
   "nbconvert_exporter": "python",
   "pygments_lexer": "ipython3",
   "version": "3.7.12"
  }
 },
 "nbformat": 4,
 "nbformat_minor": 4
}
